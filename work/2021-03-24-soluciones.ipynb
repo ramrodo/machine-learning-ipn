{
 "metadata": {
  "language_info": {
   "codemirror_mode": {
    "name": "ipython",
    "version": 3
   },
   "file_extension": ".py",
   "mimetype": "text/x-python",
   "name": "python",
   "nbconvert_exporter": "python",
   "pygments_lexer": "ipython3",
   "version": "3.9.2-final"
  },
  "orig_nbformat": 2,
  "kernelspec": {
   "name": "python3",
   "display_name": "Python 3",
   "language": "python"
  }
 },
 "nbformat": 4,
 "nbformat_minor": 2,
 "cells": [
  {
   "source": [
    "# Machine Learning IPN - Trabajo 24 marzo 2021\n",
    "## Rodolfo Martínez Vega"
   ],
   "cell_type": "markdown",
   "metadata": {}
  },
  {
   "source": [
    "En este trabajo usaremos a `datasets/iris.data`, el cuál contiene 5 columnas con información de las medidas de las flores Iris y su clasificación de muestras. En las siguientes celdas se muestra la extracción y estructuración de las 150 muestras en los conjuntos `X` y `Y`.\n",
    "\n",
    "Revise los códigos y resuelva los puntos marcados al final."
   ],
   "cell_type": "markdown",
   "metadata": {}
  },
  {
   "source": [
    "## Ejercicios - Redes neuronales\n",
    "\n",
    "1. Continua el estudio de clase para el reconocimiento de dígitos de `notebooks/12. Multilayer Neural Network Classifier.ipynb`.\n",
    "2. Dibuja en paint un dígito a mano y guardalo como una imagen PNG.\n",
    "3. Abre la imagen en Python con Pillow. Pista https://www.geeksforgeeks.org/python-pil-image-resize-method/\n",
    "4. Escala la imagen a 28x28 pixeles.\n",
    "5. Convierte la imagen a un array de numpy. Pista https://www.geeksforgeeks.org/how-to-convert-images-to-numpy-array/\n",
    "6. Usa `rgb2gray` de `skimage` para convertir la imagen de RGB a escala de grises. https://scikit-image.org/docs/stable/auto_examples/color_exposure/plot_rgb_to_gray.html#sphx-glr-auto-examples-color-exposure-plot-rgb-to-gray-py\n",
    "7. Refigura la imagen para que sea un vector de 784 entradas.\n",
    "8. Predice que dígito responde el clasificador y comenta si funcionó o se equivocó."
   ],
   "cell_type": "markdown",
   "metadata": {}
  },
  {
   "source": [
    "## Solución"
   ],
   "cell_type": "markdown",
   "metadata": {}
  },
  {
   "source": [
    "### Leer y escalar la imagen"
   ],
   "cell_type": "markdown",
   "metadata": {}
  },
  {
   "cell_type": "code",
   "execution_count": 113,
   "metadata": {},
   "outputs": [
    {
     "output_type": "execute_result",
     "data": {
      "text/plain": [
       "<PIL.Image.Image image mode=RGBA size=28x28 at 0x7F3A951D7160>"
      ],
      "image/png": "[encoded data removed]"
     },
     "metadata": {},
     "execution_count": 113
    }
   ],
   "source": [
    "from PIL import Image\n",
    "\n",
    "img = Image.open(r\"./2021-03-24-img-4n.png\")\n",
    "\n",
    "# Escalar la imagen a 28x28 pixeles\n",
    "newsize = (28, 28)\n",
    "img = img.resize(newsize)\n",
    "\n",
    "img"
   ]
  },
  {
   "source": [
    "### Convertir la imagen en un array de Numpy"
   ],
   "cell_type": "markdown",
   "metadata": {}
  },
  {
   "cell_type": "code",
   "execution_count": 114,
   "metadata": {},
   "outputs": [
    {
     "output_type": "stream",
     "name": "stdout",
     "text": [
      "(28, 28, 4)\n"
     ]
    }
   ],
   "source": [
    "from numpy import asarray\n",
    "\n",
    "numpydata = asarray(img)\n",
    "\n",
    "print(numpydata.shape)"
   ]
  },
  {
   "source": [
    "### Convertir a escala de grises"
   ],
   "cell_type": "markdown",
   "metadata": {}
  },
  {
   "cell_type": "code",
   "execution_count": 115,
   "metadata": {},
   "outputs": [
    {
     "output_type": "execute_result",
     "data": {
      "text/plain": [
       "Text(0.5, 1.0, 'Grayscale')"
      ]
     },
     "metadata": {},
     "execution_count": 115
    },
    {
     "output_type": "display_data",
     "data": {
      "text/plain": "<Figure size 576x288 with 2 Axes>",
      "image/svg+xml": "<?xml version=\"1.0\" encoding=\"utf-8\" standalone=\"no\"?>\n<!DOCTYPE svg PUBLIC \"-//W3C//DTD SVG 1.1//EN\"\n  \"http://www.w3.org/Graphics/SVG/1.1/DTD/svg11.dtd\">\n<!-- Created with matplotlib (https://matplotlib.org/) -->\n<svg height=\"249.105341pt\" version=\"1.1\" viewBox=\"0 0 480.525 249.105341\" width=\"480.525pt\" xmlns=\"http://www.w3.org/2000/svg\" xmlns:xlink=\"http://www.w3.org/1999/xlink\">\n <metadata>\n  <rdf:RDF xmlns:cc=\"http://creativecommons.org/ns#\" xmlns:dc=\"http://purl.org/dc/elements/1.1/\" xmlns:rdf=\"http://www.w3.org/1999/02/22-rdf-syntax-ns#\">\n   <cc:Work>\n    <dc:type rdf:resource=\"http://purl.org/dc/dcmitype/StillImage\"/>\n    <dc:date>2021-03-26T17:33:50.492012</dc:date>\n    <dc:format>image/svg+xml</dc:format>\n    <dc:creator>\n     <cc:Agent>\n      <dc:title>Matplotlib v3.3.4, https://matplotlib.org/</dc:title>\n     </cc:Agent>\n    </dc:creator>\n   </cc:Work>\n  </rdf:RDF>\n </metadata>\n <defs>\n  <style type=\"text/css\">*{stroke-linecap:butt;stroke-linejoin:round;}</style>\n </defs>\n <g id=\"figure_1\">\n  <g id=\"patch_1\">\n   <path d=\"M 0 249.105341 \nL 480.525 249.105341 \nL 480.525 0 \nL 0 0 \nz\n\" style=\"fill:none;\"/>\n  </g>\n  <g id=\"axes_1\">\n   <g id=\"patch_2\">\n    <path d=\"M 26.925 225.227216 \nL 229.834091 225.227216 \nL 229.834091 22.318125 \nL 26.925 22.318125 \nz\n\" style=\"fill:#ffffff;\"/>\n   </g>\n   <g clip-path=\"url(#p367a031a20)\">\n    <image height=\"203\" id=\"imagebbe912e143\" transform=\"scale(1 -1)translate(0 -203)\" width=\"203\" x=\"26.925\" xlink:href=\"data:image/png;base64,\niVBORw0KGgoAAAANSUhEUgAAAMsAAADLCAYAAADA+2czAAAEw0lEQVR4nO3dvWoUURjH4UmMmw+wtLEQBLUTISB4Cbkl8QosvAax1auxsRUEwVQi8Tsfa6GNxXnPn0niZmeepz3s7kT57YF3DrMbe3u7ywHo2lz1BcC6EAuExAIhsUBILBASC4TEAiGxQEgsEBILhMQCIbFASCwQEguExAIhsUBILBASC4TEAiGxQEgsENpa9QXw/yzP8RyfjY2Lu451ZWeBkFggJBYIiQVCYoGQWCBkdDwx1Xh4sRj3umEYhuPj9tpcxsp2FgiJBUJigZBYICQWCIkFQkbHE/PrV3vt+fP2d+Pnz/X7Pn161lzb2eld1TTYWSAkFgiJBUJigZBYICQWCIkFQu6zTMxm8fV371577fCwft/zPBlmKuwsEBILhMQCIbFASCwQEguEjI7XUDXGrUbH29vttU+fxl/PXNhZICQWCIkFQmKBkFggJBYIGR1PTPWQ7mqsvHSsuMvOAiGxQEgsEBILhMQCIbFAyOh4Yq5da6/t7rbXvnyp39dk2c4CMbFASCwQEguExAIhsUBILBByn2ViqiP61T2Yk5OLv5apsbNASCwQEguExAIhsUBILBAyOp6R5bI9V65Gzn9ffaHXso7sLBASC4TEAiGxQEgsEBILhIyOJ6Z6CsvYNf6ws0BILBASC4TEAiGxQEgsEBILhMQCIbFASCwQEguExAIhsUBILBByRL/j+Lherx6o3X9iyjjVcfqxn3l66ox+j50FQmKBkFggJBYIiQVCYoGQ0fEwDGdn7bVHj+rX3rnTntVW73tZbt1qr9282V47OKi/N1+8OG2uHR62X1f9juW6sbNASCwQEguExAIhsUBILBCazeh47EndZ8/q75PHj9svPjrqXdU41fV+/95e29lpr+3v15959277Qz98aP/jGh3DDIkFQmKBkFggJBYIiQVCsxkdV07bB2q7D6x49ao9Nn3ypH3suBrj9lRj8B8/2muvX7e/G/f36yddrOIE9VVjZ4GQWCAkFgiJBUJigZBYICQWCM3mPkt1rL26h/DtW/2+1YPB379vry0W9ftWqvssW8X/aPV3VveahqG+f3NZD0C/auwsEBILhMQCIbFASCwQEguEZjM6viybxddNNVKtRrw9Y59UU42Hf/6sP/PoqP2hRsfAP8QCIbFASCwQEguExAIho+OO84xFVzFSHTse7o2Ov35tr1Xj8ymZyZ8J5ycWCIkFQmKBkFggJBYIGR13VCd8e+u9114lvdFxte7UMfAPsUBILBASC4TEAiGxQEgsEHKf5ZzW6V5KdZS+9wOrfoDVzgIxsUBILBASC4TEAiGxQMjouKM3Mt3ebq+t4uh6db3V70LSZ2eBkFggJBYIiQVCYoGQWCBkdDzUD9P++LF+7cOH7bXr19trY38Xsrd+ctJee/euvfbgQf2Z2FkgJhYIiQVCYoGQWCAkFggZHQ/DsFX8K7x8WT+R4v79cZ+5ihPJb960/5aDg/qCPLDCzgIxsUBILBASC4TEAiGxQEgsENrY29tdo0db/3/VkfdhqI/3V09+uSzV0f8bN9prt2/X7/v27bjrmRI7C4TEAiGxQEgsEBILhMQCIaPjGamO2fdG5IvFxV7LOrKzQEgsEBILhMQCIbFASCwQ+g1Lf6+fYxCRrAAAAABJRU5ErkJggg==\" y=\"-22.227216\"/>\n   </g>\n   <g id=\"matplotlib.axis_1\">\n    <g id=\"xtick_1\">\n     <g id=\"line2d_1\">\n      <defs>\n       <path d=\"M 0 0 \nL 0 3.5 \n\" id=\"m853f81991c\" style=\"stroke:#000000;stroke-width:0.8;\"/>\n      </defs>\n      <g>\n       <use style=\"stroke:#000000;stroke-width:0.8;\" x=\"30.548377\" xlink:href=\"#m853f81991c\" y=\"225.227216\"/>\n      </g>\n     </g>\n     <g id=\"text_1\">\n      <!-- 0 -->\n      <g transform=\"translate(27.367127 239.825653)scale(0.1 -0.1)\">\n       <defs>\n        <path d=\"M 31.78125 66.40625 \nQ 24.171875 66.40625 20.328125 58.90625 \nQ 16.5 51.421875 16.5 36.375 \nQ 16.5 21.390625 20.328125 13.890625 \nQ 24.171875 6.390625 31.78125 6.390625 \nQ 39.453125 6.390625 43.28125 13.890625 \nQ 47.125 21.390625 47.125 36.375 \nQ 47.125 51.421875 43.28125 58.90625 \nQ 39.453125 66.40625 31.78125 66.40625 \nz\nM 31.78125 74.21875 \nQ 44.046875 74.21875 50.515625 64.515625 \nQ 56.984375 54.828125 56.984375 36.375 \nQ 56.984375 17.96875 50.515625 8.265625 \nQ 44.046875 -1.421875 31.78125 -1.421875 \nQ 19.53125 -1.421875 13.0625 8.265625 \nQ 6.59375 17.96875 6.59375 36.375 \nQ 6.59375 54.828125 13.0625 64.515625 \nQ 19.53125 74.21875 31.78125 74.21875 \nz\n\" id=\"DejaVuSans-48\"/>\n       </defs>\n       <use xlink:href=\"#DejaVuSans-48\"/>\n      </g>\n     </g>\n    </g>\n    <g id=\"xtick_2\">\n     <g id=\"line2d_2\">\n      <g>\n       <use style=\"stroke:#000000;stroke-width:0.8;\" x=\"66.782143\" xlink:href=\"#m853f81991c\" y=\"225.227216\"/>\n      </g>\n     </g>\n     <g id=\"text_2\">\n      <!-- 5 -->\n      <g transform=\"translate(63.600893 239.825653)scale(0.1 -0.1)\">\n       <defs>\n        <path d=\"M 10.796875 72.90625 \nL 49.515625 72.90625 \nL 49.515625 64.59375 \nL 19.828125 64.59375 \nL 19.828125 46.734375 \nQ 21.96875 47.46875 24.109375 47.828125 \nQ 26.265625 48.1875 28.421875 48.1875 \nQ 40.625 48.1875 47.75 41.5 \nQ 54.890625 34.8125 54.890625 23.390625 \nQ 54.890625 11.625 47.5625 5.09375 \nQ 40.234375 -1.421875 26.90625 -1.421875 \nQ 22.3125 -1.421875 17.546875 -0.640625 \nQ 12.796875 0.140625 7.71875 1.703125 \nL 7.71875 11.625 \nQ 12.109375 9.234375 16.796875 8.0625 \nQ 21.484375 6.890625 26.703125 6.890625 \nQ 35.15625 6.890625 40.078125 11.328125 \nQ 45.015625 15.765625 45.015625 23.390625 \nQ 45.015625 31 40.078125 35.4375 \nQ 35.15625 39.890625 26.703125 39.890625 \nQ 22.75 39.890625 18.8125 39.015625 \nQ 14.890625 38.140625 10.796875 36.28125 \nz\n\" id=\"DejaVuSans-53\"/>\n       </defs>\n       <use xlink:href=\"#DejaVuSans-53\"/>\n      </g>\n     </g>\n    </g>\n    <g id=\"xtick_3\">\n     <g id=\"line2d_3\">\n      <g>\n       <use style=\"stroke:#000000;stroke-width:0.8;\" x=\"103.015909\" xlink:href=\"#m853f81991c\" y=\"225.227216\"/>\n      </g>\n     </g>\n     <g id=\"text_3\">\n      <!-- 10 -->\n      <g transform=\"translate(96.653409 239.825653)scale(0.1 -0.1)\">\n       <defs>\n        <path d=\"M 12.40625 8.296875 \nL 28.515625 8.296875 \nL 28.515625 63.921875 \nL 10.984375 60.40625 \nL 10.984375 69.390625 \nL 28.421875 72.90625 \nL 38.28125 72.90625 \nL 38.28125 8.296875 \nL 54.390625 8.296875 \nL 54.390625 0 \nL 12.40625 0 \nz\n\" id=\"DejaVuSans-49\"/>\n       </defs>\n       <use xlink:href=\"#DejaVuSans-49\"/>\n       <use x=\"63.623047\" xlink:href=\"#DejaVuSans-48\"/>\n      </g>\n     </g>\n    </g>\n    <g id=\"xtick_4\">\n     <g id=\"line2d_4\">\n      <g>\n       <use style=\"stroke:#000000;stroke-width:0.8;\" x=\"139.249675\" xlink:href=\"#m853f81991c\" y=\"225.227216\"/>\n      </g>\n     </g>\n     <g id=\"text_4\">\n      <!-- 15 -->\n      <g transform=\"translate(132.887175 239.825653)scale(0.1 -0.1)\">\n       <use xlink:href=\"#DejaVuSans-49\"/>\n       <use x=\"63.623047\" xlink:href=\"#DejaVuSans-53\"/>\n      </g>\n     </g>\n    </g>\n    <g id=\"xtick_5\">\n     <g id=\"line2d_5\">\n      <g>\n       <use style=\"stroke:#000000;stroke-width:0.8;\" x=\"175.483442\" xlink:href=\"#m853f81991c\" y=\"225.227216\"/>\n      </g>\n     </g>\n     <g id=\"text_5\">\n      <!-- 20 -->\n      <g transform=\"translate(169.120942 239.825653)scale(0.1 -0.1)\">\n       <defs>\n        <path d=\"M 19.1875 8.296875 \nL 53.609375 8.296875 \nL 53.609375 0 \nL 7.328125 0 \nL 7.328125 8.296875 \nQ 12.9375 14.109375 22.625 23.890625 \nQ 32.328125 33.6875 34.8125 36.53125 \nQ 39.546875 41.84375 41.421875 45.53125 \nQ 43.3125 49.21875 43.3125 52.78125 \nQ 43.3125 58.59375 39.234375 62.25 \nQ 35.15625 65.921875 28.609375 65.921875 \nQ 23.96875 65.921875 18.8125 64.3125 \nQ 13.671875 62.703125 7.8125 59.421875 \nL 7.8125 69.390625 \nQ 13.765625 71.78125 18.9375 73 \nQ 24.125 74.21875 28.421875 74.21875 \nQ 39.75 74.21875 46.484375 68.546875 \nQ 53.21875 62.890625 53.21875 53.421875 \nQ 53.21875 48.921875 51.53125 44.890625 \nQ 49.859375 40.875 45.40625 35.40625 \nQ 44.1875 33.984375 37.640625 27.21875 \nQ 31.109375 20.453125 19.1875 8.296875 \nz\n\" id=\"DejaVuSans-50\"/>\n       </defs>\n       <use xlink:href=\"#DejaVuSans-50\"/>\n       <use x=\"63.623047\" xlink:href=\"#DejaVuSans-48\"/>\n      </g>\n     </g>\n    </g>\n    <g id=\"xtick_6\">\n     <g id=\"line2d_6\">\n      <g>\n       <use style=\"stroke:#000000;stroke-width:0.8;\" x=\"211.717208\" xlink:href=\"#m853f81991c\" y=\"225.227216\"/>\n      </g>\n     </g>\n     <g id=\"text_6\">\n      <!-- 25 -->\n      <g transform=\"translate(205.354708 239.825653)scale(0.1 -0.1)\">\n       <use xlink:href=\"#DejaVuSans-50\"/>\n       <use x=\"63.623047\" xlink:href=\"#DejaVuSans-53\"/>\n      </g>\n     </g>\n    </g>\n   </g>\n   <g id=\"matplotlib.axis_2\">\n    <g id=\"ytick_1\">\n     <g id=\"line2d_7\">\n      <defs>\n       <path d=\"M 0 0 \nL -3.5 0 \n\" id=\"maa2bd92bdb\" style=\"stroke:#000000;stroke-width:0.8;\"/>\n      </defs>\n      <g>\n       <use style=\"stroke:#000000;stroke-width:0.8;\" x=\"26.925\" xlink:href=\"#maa2bd92bdb\" y=\"25.941502\"/>\n      </g>\n     </g>\n     <g id=\"text_7\">\n      <!-- 0 -->\n      <g transform=\"translate(13.5625 29.74072)scale(0.1 -0.1)\">\n       <use xlink:href=\"#DejaVuSans-48\"/>\n      </g>\n     </g>\n    </g>\n    <g id=\"ytick_2\">\n     <g id=\"line2d_8\">\n      <g>\n       <use style=\"stroke:#000000;stroke-width:0.8;\" x=\"26.925\" xlink:href=\"#maa2bd92bdb\" y=\"62.175268\"/>\n      </g>\n     </g>\n     <g id=\"text_8\">\n      <!-- 5 -->\n      <g transform=\"translate(13.5625 65.974487)scale(0.1 -0.1)\">\n       <use xlink:href=\"#DejaVuSans-53\"/>\n      </g>\n     </g>\n    </g>\n    <g id=\"ytick_3\">\n     <g id=\"line2d_9\">\n      <g>\n       <use style=\"stroke:#000000;stroke-width:0.8;\" x=\"26.925\" xlink:href=\"#maa2bd92bdb\" y=\"98.409034\"/>\n      </g>\n     </g>\n     <g id=\"text_9\">\n      <!-- 10 -->\n      <g transform=\"translate(7.2 102.208253)scale(0.1 -0.1)\">\n       <use xlink:href=\"#DejaVuSans-49\"/>\n       <use x=\"63.623047\" xlink:href=\"#DejaVuSans-48\"/>\n      </g>\n     </g>\n    </g>\n    <g id=\"ytick_4\">\n     <g id=\"line2d_10\">\n      <g>\n       <use style=\"stroke:#000000;stroke-width:0.8;\" x=\"26.925\" xlink:href=\"#maa2bd92bdb\" y=\"134.6428\"/>\n      </g>\n     </g>\n     <g id=\"text_10\">\n      <!-- 15 -->\n      <g transform=\"translate(7.2 138.442019)scale(0.1 -0.1)\">\n       <use xlink:href=\"#DejaVuSans-49\"/>\n       <use x=\"63.623047\" xlink:href=\"#DejaVuSans-53\"/>\n      </g>\n     </g>\n    </g>\n    <g id=\"ytick_5\">\n     <g id=\"line2d_11\">\n      <g>\n       <use style=\"stroke:#000000;stroke-width:0.8;\" x=\"26.925\" xlink:href=\"#maa2bd92bdb\" y=\"170.876567\"/>\n      </g>\n     </g>\n     <g id=\"text_11\">\n      <!-- 20 -->\n      <g transform=\"translate(7.2 174.675785)scale(0.1 -0.1)\">\n       <use xlink:href=\"#DejaVuSans-50\"/>\n       <use x=\"63.623047\" xlink:href=\"#DejaVuSans-48\"/>\n      </g>\n     </g>\n    </g>\n    <g id=\"ytick_6\">\n     <g id=\"line2d_12\">\n      <g>\n       <use style=\"stroke:#000000;stroke-width:0.8;\" x=\"26.925\" xlink:href=\"#maa2bd92bdb\" y=\"207.110333\"/>\n      </g>\n     </g>\n     <g id=\"text_12\">\n      <!-- 25 -->\n      <g transform=\"translate(7.2 210.909552)scale(0.1 -0.1)\">\n       <use xlink:href=\"#DejaVuSans-50\"/>\n       <use x=\"63.623047\" xlink:href=\"#DejaVuSans-53\"/>\n      </g>\n     </g>\n    </g>\n   </g>\n   <g id=\"patch_3\">\n    <path d=\"M 26.925 225.227216 \nL 26.925 22.318125 \n\" style=\"fill:none;stroke:#000000;stroke-linecap:square;stroke-linejoin:miter;stroke-width:0.8;\"/>\n   </g>\n   <g id=\"patch_4\">\n    <path d=\"M 229.834091 225.227216 \nL 229.834091 22.318125 \n\" style=\"fill:none;stroke:#000000;stroke-linecap:square;stroke-linejoin:miter;stroke-width:0.8;\"/>\n   </g>\n   <g id=\"patch_5\">\n    <path d=\"M 26.925 225.227216 \nL 229.834091 225.227216 \n\" style=\"fill:none;stroke:#000000;stroke-linecap:square;stroke-linejoin:miter;stroke-width:0.8;\"/>\n   </g>\n   <g id=\"patch_6\">\n    <path d=\"M 26.925 22.318125 \nL 229.834091 22.318125 \n\" style=\"fill:none;stroke:#000000;stroke-linecap:square;stroke-linejoin:miter;stroke-width:0.8;\"/>\n   </g>\n   <g id=\"text_13\">\n    <!-- Original -->\n    <g transform=\"translate(104.900795 16.318125)scale(0.12 -0.12)\">\n     <defs>\n      <path d=\"M 39.40625 66.21875 \nQ 28.65625 66.21875 22.328125 58.203125 \nQ 16.015625 50.203125 16.015625 36.375 \nQ 16.015625 22.609375 22.328125 14.59375 \nQ 28.65625 6.59375 39.40625 6.59375 \nQ 50.140625 6.59375 56.421875 14.59375 \nQ 62.703125 22.609375 62.703125 36.375 \nQ 62.703125 50.203125 56.421875 58.203125 \nQ 50.140625 66.21875 39.40625 66.21875 \nz\nM 39.40625 74.21875 \nQ 54.734375 74.21875 63.90625 63.9375 \nQ 73.09375 53.65625 73.09375 36.375 \nQ 73.09375 19.140625 63.90625 8.859375 \nQ 54.734375 -1.421875 39.40625 -1.421875 \nQ 24.03125 -1.421875 14.8125 8.828125 \nQ 5.609375 19.09375 5.609375 36.375 \nQ 5.609375 53.65625 14.8125 63.9375 \nQ 24.03125 74.21875 39.40625 74.21875 \nz\n\" id=\"DejaVuSans-79\"/>\n      <path d=\"M 41.109375 46.296875 \nQ 39.59375 47.171875 37.8125 47.578125 \nQ 36.03125 48 33.890625 48 \nQ 26.265625 48 22.1875 43.046875 \nQ 18.109375 38.09375 18.109375 28.8125 \nL 18.109375 0 \nL 9.078125 0 \nL 9.078125 54.6875 \nL 18.109375 54.6875 \nL 18.109375 46.1875 \nQ 20.953125 51.171875 25.484375 53.578125 \nQ 30.03125 56 36.53125 56 \nQ 37.453125 56 38.578125 55.875 \nQ 39.703125 55.765625 41.0625 55.515625 \nz\n\" id=\"DejaVuSans-114\"/>\n      <path d=\"M 9.421875 54.6875 \nL 18.40625 54.6875 \nL 18.40625 0 \nL 9.421875 0 \nz\nM 9.421875 75.984375 \nL 18.40625 75.984375 \nL 18.40625 64.59375 \nL 9.421875 64.59375 \nz\n\" id=\"DejaVuSans-105\"/>\n      <path d=\"M 45.40625 27.984375 \nQ 45.40625 37.75 41.375 43.109375 \nQ 37.359375 48.484375 30.078125 48.484375 \nQ 22.859375 48.484375 18.828125 43.109375 \nQ 14.796875 37.75 14.796875 27.984375 \nQ 14.796875 18.265625 18.828125 12.890625 \nQ 22.859375 7.515625 30.078125 7.515625 \nQ 37.359375 7.515625 41.375 12.890625 \nQ 45.40625 18.265625 45.40625 27.984375 \nz\nM 54.390625 6.78125 \nQ 54.390625 -7.171875 48.1875 -13.984375 \nQ 42 -20.796875 29.203125 -20.796875 \nQ 24.46875 -20.796875 20.265625 -20.09375 \nQ 16.0625 -19.390625 12.109375 -17.921875 \nL 12.109375 -9.1875 \nQ 16.0625 -11.328125 19.921875 -12.34375 \nQ 23.78125 -13.375 27.78125 -13.375 \nQ 36.625 -13.375 41.015625 -8.765625 \nQ 45.40625 -4.15625 45.40625 5.171875 \nL 45.40625 9.625 \nQ 42.625 4.78125 38.28125 2.390625 \nQ 33.9375 0 27.875 0 \nQ 17.828125 0 11.671875 7.65625 \nQ 5.515625 15.328125 5.515625 27.984375 \nQ 5.515625 40.671875 11.671875 48.328125 \nQ 17.828125 56 27.875 56 \nQ 33.9375 56 38.28125 53.609375 \nQ 42.625 51.21875 45.40625 46.390625 \nL 45.40625 54.6875 \nL 54.390625 54.6875 \nz\n\" id=\"DejaVuSans-103\"/>\n      <path d=\"M 54.890625 33.015625 \nL 54.890625 0 \nL 45.90625 0 \nL 45.90625 32.71875 \nQ 45.90625 40.484375 42.875 44.328125 \nQ 39.84375 48.1875 33.796875 48.1875 \nQ 26.515625 48.1875 22.3125 43.546875 \nQ 18.109375 38.921875 18.109375 30.90625 \nL 18.109375 0 \nL 9.078125 0 \nL 9.078125 54.6875 \nL 18.109375 54.6875 \nL 18.109375 46.1875 \nQ 21.34375 51.125 25.703125 53.5625 \nQ 30.078125 56 35.796875 56 \nQ 45.21875 56 50.046875 50.171875 \nQ 54.890625 44.34375 54.890625 33.015625 \nz\n\" id=\"DejaVuSans-110\"/>\n      <path d=\"M 34.28125 27.484375 \nQ 23.390625 27.484375 19.1875 25 \nQ 14.984375 22.515625 14.984375 16.5 \nQ 14.984375 11.71875 18.140625 8.90625 \nQ 21.296875 6.109375 26.703125 6.109375 \nQ 34.1875 6.109375 38.703125 11.40625 \nQ 43.21875 16.703125 43.21875 25.484375 \nL 43.21875 27.484375 \nz\nM 52.203125 31.203125 \nL 52.203125 0 \nL 43.21875 0 \nL 43.21875 8.296875 \nQ 40.140625 3.328125 35.546875 0.953125 \nQ 30.953125 -1.421875 24.3125 -1.421875 \nQ 15.921875 -1.421875 10.953125 3.296875 \nQ 6 8.015625 6 15.921875 \nQ 6 25.140625 12.171875 29.828125 \nQ 18.359375 34.515625 30.609375 34.515625 \nL 43.21875 34.515625 \nL 43.21875 35.40625 \nQ 43.21875 41.609375 39.140625 45 \nQ 35.0625 48.390625 27.6875 48.390625 \nQ 23 48.390625 18.546875 47.265625 \nQ 14.109375 46.140625 10.015625 43.890625 \nL 10.015625 52.203125 \nQ 14.9375 54.109375 19.578125 55.046875 \nQ 24.21875 56 28.609375 56 \nQ 40.484375 56 46.34375 49.84375 \nQ 52.203125 43.703125 52.203125 31.203125 \nz\n\" id=\"DejaVuSans-97\"/>\n      <path d=\"M 9.421875 75.984375 \nL 18.40625 75.984375 \nL 18.40625 0 \nL 9.421875 0 \nz\n\" id=\"DejaVuSans-108\"/>\n     </defs>\n     <use xlink:href=\"#DejaVuSans-79\"/>\n     <use x=\"78.710938\" xlink:href=\"#DejaVuSans-114\"/>\n     <use x=\"119.824219\" xlink:href=\"#DejaVuSans-105\"/>\n     <use x=\"147.607422\" xlink:href=\"#DejaVuSans-103\"/>\n     <use x=\"211.083984\" xlink:href=\"#DejaVuSans-105\"/>\n     <use x=\"238.867188\" xlink:href=\"#DejaVuSans-110\"/>\n     <use x=\"302.246094\" xlink:href=\"#DejaVuSans-97\"/>\n     <use x=\"363.525391\" xlink:href=\"#DejaVuSans-108\"/>\n    </g>\n   </g>\n  </g>\n  <g id=\"axes_2\">\n   <g id=\"patch_7\">\n    <path d=\"M 270.415909 225.227216 \nL 473.325 225.227216 \nL 473.325 22.318125 \nL 270.415909 22.318125 \nz\n\" style=\"fill:#ffffff;\"/>\n   </g>\n   <g clip-path=\"url(#pe5f4f1a560)\">\n    <image height=\"203\" id=\"image52aa756149\" transform=\"scale(1 -1)translate(0 -203)\" width=\"203\" x=\"270.415909\" xlink:href=\"data:image/png;base64,\niVBORw0KGgoAAAANSUhEUgAAAMsAAADLCAYAAADA+2czAAAFA0lEQVR4nO3dP24TWxjG4ck/2zJKmQ4hUaQNBRJSNkDhBSGxi2wgoqZhB5GyBRpKilSkQUgoBOIQbnErivPNq0lyfT1+nvaTx5OgX450fBhvzefzPx3Qa3vVNwDrQiwQEguExAIhsUBILBASC4TEAiGxQEgsEBILhMQCIbFASCwQEguExAIhsUBILBASC4TEAiGxQGh31TfAf+fPn+EP8tna2nrAO1lPVhYIiQVCYoGQWCAkFgiJBUK2jkem2h6eTCaDXtd1XbdcLpuzTdlWtrJASCwQEguExAIhsUBILBCydTwyNzc3zdnJyUlz9u3bt/K6b9++bc5ms1nfbY2ClQVCYoGQWCAkFgiJBUJigZBYIORzlpHZ3m7//Ts8PGzOLi8vy+ve58kwY2FlgZBYICQWCIkFQmKBkFggZOt4DVXbuNXW8XQ6bc6+fv16r3vaBFYWCIkFQmKBkFggJBYIiQVCto5HpnpId7WtfHd39xi3MypWFgiJBUJigZBYICQWCIkFQraOR2ZnZ6c5m8/nzdnV1VV5XQ+ssLJATCwQEguExAIhsUBILBASC4R8zjIyQ4/oL5fLx7idUbGyQEgsEBILhMQCIbFASCwQsnVM13X1tjL/8huCkFggJBYIiQVCYoGQWCBk63hkqqewVDMPBu9nZYGQWCAkFgiJBUJigZBYICQWCIkFQmKBkFggJBYIiQVCYoGQWCDkiH6Pvgdm397eNmfVQ7rvozpqP/Q9HdHvZ2WBkFggJBYIiQVCYoGQWCBk67irt01fvXpVvvb58+fN2e/fvwff01BPnz5tzg4ODpqzxWJRXvf09LQ5u7y8bM52dnbK664TKwuExAIhsUBILBASC4TEAqGt+XzePsI6ItVJ3crZ2Vk5Pz4+bs6+f/8+6D37VCeLr6+vm7PZbNacPXnypHzP169fN2fn5+fN2XQ6La+7TqwsEBILhMQCIbFASCwQEguEnDru6tPBfQ+seP/+fXP25s2b5qzaxu1TnZL+9etXc/bhw4fm7OXLl4Pfc1NYWSAkFgiJBUJigZBYICQWCIkFQhvzOUt1rL36DOHHjx/ldavPYS4uLpqzyWRSXrdS/XeD3d32P2n1c/Y9iaY6+v9YD0D/v7GyQEgsEBILhMQCIbFASCwQ2pit48dSPfi62lKttnj7DP1OyWp7+OfPn+V7Vk+qsXUM/EUsEBILhMQCIbFASCwQsnXc4z7boqvYUq22h6snv9zc3JTXvbq6as62tzfjb+5m/JTwAMQCIbFASCwQEguExAIhW8c9+r6LspoP/R7LVai2lfvmTh0DfxELhMQCIbFASCwQEguExAIhn7Pc0zp9MWl1lL7vweDr9HM+FisLhMQCIbFASCwQEguExAIhW8c9+rZMZ7NZc7aKo+vV/fY9/JualQVCYoGQWCAkFgiJBUJigZCt464+cfvly5fytS9evGjO9vb2mrOh3wvZN7+9vW3OPn/+3JwdHR2V74mVBWJigZBYICQWCIkFQmKBkK3jrut2d9u/hnfv3pWvPTw8HPSeqziR/PHjx+ZssViUr/XACisLxMQCIbFASCwQEguExAIhsUBoaz6fr8+3hK5AdeS96+rj/dPp9KFvp1d19H9/f785e/bsWXndT58+Db6nsbCyQEgsEBILhMQCIbFASCwQsnW8Qapj9n1b5JPJ5KFvZ+1YWSAkFgiJBUJigZBYICQWCP0D/Xvyqi4ZIYgAAAAASUVORK5CYII=\" y=\"-22.227216\"/>\n   </g>\n   <g id=\"matplotlib.axis_3\">\n    <g id=\"xtick_7\">\n     <g id=\"line2d_13\">\n      <g>\n       <use style=\"stroke:#000000;stroke-width:0.8;\" x=\"274.039286\" xlink:href=\"#m853f81991c\" y=\"225.227216\"/>\n      </g>\n     </g>\n     <g id=\"text_14\">\n      <!-- 0 -->\n      <g transform=\"translate(270.858036 239.825653)scale(0.1 -0.1)\">\n       <use xlink:href=\"#DejaVuSans-48\"/>\n      </g>\n     </g>\n    </g>\n    <g id=\"xtick_8\">\n     <g id=\"line2d_14\">\n      <g>\n       <use style=\"stroke:#000000;stroke-width:0.8;\" x=\"310.273052\" xlink:href=\"#m853f81991c\" y=\"225.227216\"/>\n      </g>\n     </g>\n     <g id=\"text_15\">\n      <!-- 5 -->\n      <g transform=\"translate(307.091802 239.825653)scale(0.1 -0.1)\">\n       <use xlink:href=\"#DejaVuSans-53\"/>\n      </g>\n     </g>\n    </g>\n    <g id=\"xtick_9\">\n     <g id=\"line2d_15\">\n      <g>\n       <use style=\"stroke:#000000;stroke-width:0.8;\" x=\"346.506818\" xlink:href=\"#m853f81991c\" y=\"225.227216\"/>\n      </g>\n     </g>\n     <g id=\"text_16\">\n      <!-- 10 -->\n      <g transform=\"translate(340.144318 239.825653)scale(0.1 -0.1)\">\n       <use xlink:href=\"#DejaVuSans-49\"/>\n       <use x=\"63.623047\" xlink:href=\"#DejaVuSans-48\"/>\n      </g>\n     </g>\n    </g>\n    <g id=\"xtick_10\">\n     <g id=\"line2d_16\">\n      <g>\n       <use style=\"stroke:#000000;stroke-width:0.8;\" x=\"382.740584\" xlink:href=\"#m853f81991c\" y=\"225.227216\"/>\n      </g>\n     </g>\n     <g id=\"text_17\">\n      <!-- 15 -->\n      <g transform=\"translate(376.378084 239.825653)scale(0.1 -0.1)\">\n       <use xlink:href=\"#DejaVuSans-49\"/>\n       <use x=\"63.623047\" xlink:href=\"#DejaVuSans-53\"/>\n      </g>\n     </g>\n    </g>\n    <g id=\"xtick_11\">\n     <g id=\"line2d_17\">\n      <g>\n       <use style=\"stroke:#000000;stroke-width:0.8;\" x=\"418.974351\" xlink:href=\"#m853f81991c\" y=\"225.227216\"/>\n      </g>\n     </g>\n     <g id=\"text_18\">\n      <!-- 20 -->\n      <g transform=\"translate(412.611851 239.825653)scale(0.1 -0.1)\">\n       <use xlink:href=\"#DejaVuSans-50\"/>\n       <use x=\"63.623047\" xlink:href=\"#DejaVuSans-48\"/>\n      </g>\n     </g>\n    </g>\n    <g id=\"xtick_12\">\n     <g id=\"line2d_18\">\n      <g>\n       <use style=\"stroke:#000000;stroke-width:0.8;\" x=\"455.208117\" xlink:href=\"#m853f81991c\" y=\"225.227216\"/>\n      </g>\n     </g>\n     <g id=\"text_19\">\n      <!-- 25 -->\n      <g transform=\"translate(448.845617 239.825653)scale(0.1 -0.1)\">\n       <use xlink:href=\"#DejaVuSans-50\"/>\n       <use x=\"63.623047\" xlink:href=\"#DejaVuSans-53\"/>\n      </g>\n     </g>\n    </g>\n   </g>\n   <g id=\"matplotlib.axis_4\">\n    <g id=\"ytick_7\">\n     <g id=\"line2d_19\">\n      <g>\n       <use style=\"stroke:#000000;stroke-width:0.8;\" x=\"270.415909\" xlink:href=\"#maa2bd92bdb\" y=\"25.941502\"/>\n      </g>\n     </g>\n     <g id=\"text_20\">\n      <!-- 0 -->\n      <g transform=\"translate(257.053409 29.74072)scale(0.1 -0.1)\">\n       <use xlink:href=\"#DejaVuSans-48\"/>\n      </g>\n     </g>\n    </g>\n    <g id=\"ytick_8\">\n     <g id=\"line2d_20\">\n      <g>\n       <use style=\"stroke:#000000;stroke-width:0.8;\" x=\"270.415909\" xlink:href=\"#maa2bd92bdb\" y=\"62.175268\"/>\n      </g>\n     </g>\n     <g id=\"text_21\">\n      <!-- 5 -->\n      <g transform=\"translate(257.053409 65.974487)scale(0.1 -0.1)\">\n       <use xlink:href=\"#DejaVuSans-53\"/>\n      </g>\n     </g>\n    </g>\n    <g id=\"ytick_9\">\n     <g id=\"line2d_21\">\n      <g>\n       <use style=\"stroke:#000000;stroke-width:0.8;\" x=\"270.415909\" xlink:href=\"#maa2bd92bdb\" y=\"98.409034\"/>\n      </g>\n     </g>\n     <g id=\"text_22\">\n      <!-- 10 -->\n      <g transform=\"translate(250.690909 102.208253)scale(0.1 -0.1)\">\n       <use xlink:href=\"#DejaVuSans-49\"/>\n       <use x=\"63.623047\" xlink:href=\"#DejaVuSans-48\"/>\n      </g>\n     </g>\n    </g>\n    <g id=\"ytick_10\">\n     <g id=\"line2d_22\">\n      <g>\n       <use style=\"stroke:#000000;stroke-width:0.8;\" x=\"270.415909\" xlink:href=\"#maa2bd92bdb\" y=\"134.6428\"/>\n      </g>\n     </g>\n     <g id=\"text_23\">\n      <!-- 15 -->\n      <g transform=\"translate(250.690909 138.442019)scale(0.1 -0.1)\">\n       <use xlink:href=\"#DejaVuSans-49\"/>\n       <use x=\"63.623047\" xlink:href=\"#DejaVuSans-53\"/>\n      </g>\n     </g>\n    </g>\n    <g id=\"ytick_11\">\n     <g id=\"line2d_23\">\n      <g>\n       <use style=\"stroke:#000000;stroke-width:0.8;\" x=\"270.415909\" xlink:href=\"#maa2bd92bdb\" y=\"170.876567\"/>\n      </g>\n     </g>\n     <g id=\"text_24\">\n      <!-- 20 -->\n      <g transform=\"translate(250.690909 174.675785)scale(0.1 -0.1)\">\n       <use xlink:href=\"#DejaVuSans-50\"/>\n       <use x=\"63.623047\" xlink:href=\"#DejaVuSans-48\"/>\n      </g>\n     </g>\n    </g>\n    <g id=\"ytick_12\">\n     <g id=\"line2d_24\">\n      <g>\n       <use style=\"stroke:#000000;stroke-width:0.8;\" x=\"270.415909\" xlink:href=\"#maa2bd92bdb\" y=\"207.110333\"/>\n      </g>\n     </g>\n     <g id=\"text_25\">\n      <!-- 25 -->\n      <g transform=\"translate(250.690909 210.909552)scale(0.1 -0.1)\">\n       <use xlink:href=\"#DejaVuSans-50\"/>\n       <use x=\"63.623047\" xlink:href=\"#DejaVuSans-53\"/>\n      </g>\n     </g>\n    </g>\n   </g>\n   <g id=\"patch_8\">\n    <path d=\"M 270.415909 225.227216 \nL 270.415909 22.318125 \n\" style=\"fill:none;stroke:#000000;stroke-linecap:square;stroke-linejoin:miter;stroke-width:0.8;\"/>\n   </g>\n   <g id=\"patch_9\">\n    <path d=\"M 473.325 225.227216 \nL 473.325 22.318125 \n\" style=\"fill:none;stroke:#000000;stroke-linecap:square;stroke-linejoin:miter;stroke-width:0.8;\"/>\n   </g>\n   <g id=\"patch_10\">\n    <path d=\"M 270.415909 225.227216 \nL 473.325 225.227216 \n\" style=\"fill:none;stroke:#000000;stroke-linecap:square;stroke-linejoin:miter;stroke-width:0.8;\"/>\n   </g>\n   <g id=\"patch_11\">\n    <path d=\"M 270.415909 22.318125 \nL 473.325 22.318125 \n\" style=\"fill:none;stroke:#000000;stroke-linecap:square;stroke-linejoin:miter;stroke-width:0.8;\"/>\n   </g>\n   <g id=\"text_26\">\n    <!-- Grayscale -->\n    <g transform=\"translate(342.066392 16.318125)scale(0.12 -0.12)\">\n     <defs>\n      <path d=\"M 59.515625 10.40625 \nL 59.515625 29.984375 \nL 43.40625 29.984375 \nL 43.40625 38.09375 \nL 69.28125 38.09375 \nL 69.28125 6.78125 \nQ 63.578125 2.734375 56.6875 0.65625 \nQ 49.8125 -1.421875 42 -1.421875 \nQ 24.90625 -1.421875 15.25 8.5625 \nQ 5.609375 18.5625 5.609375 36.375 \nQ 5.609375 54.25 15.25 64.234375 \nQ 24.90625 74.21875 42 74.21875 \nQ 49.125 74.21875 55.546875 72.453125 \nQ 61.96875 70.703125 67.390625 67.28125 \nL 67.390625 56.78125 \nQ 61.921875 61.421875 55.765625 63.765625 \nQ 49.609375 66.109375 42.828125 66.109375 \nQ 29.4375 66.109375 22.71875 58.640625 \nQ 16.015625 51.171875 16.015625 36.375 \nQ 16.015625 21.625 22.71875 14.15625 \nQ 29.4375 6.6875 42.828125 6.6875 \nQ 48.046875 6.6875 52.140625 7.59375 \nQ 56.25 8.5 59.515625 10.40625 \nz\n\" id=\"DejaVuSans-71\"/>\n      <path d=\"M 32.171875 -5.078125 \nQ 28.375 -14.84375 24.75 -17.8125 \nQ 21.140625 -20.796875 15.09375 -20.796875 \nL 7.90625 -20.796875 \nL 7.90625 -13.28125 \nL 13.1875 -13.28125 \nQ 16.890625 -13.28125 18.9375 -11.515625 \nQ 21 -9.765625 23.484375 -3.21875 \nL 25.09375 0.875 \nL 2.984375 54.6875 \nL 12.5 54.6875 \nL 29.59375 11.921875 \nL 46.6875 54.6875 \nL 56.203125 54.6875 \nz\n\" id=\"DejaVuSans-121\"/>\n      <path d=\"M 44.28125 53.078125 \nL 44.28125 44.578125 \nQ 40.484375 46.53125 36.375 47.5 \nQ 32.28125 48.484375 27.875 48.484375 \nQ 21.1875 48.484375 17.84375 46.4375 \nQ 14.5 44.390625 14.5 40.28125 \nQ 14.5 37.15625 16.890625 35.375 \nQ 19.28125 33.59375 26.515625 31.984375 \nL 29.59375 31.296875 \nQ 39.15625 29.25 43.1875 25.515625 \nQ 47.21875 21.78125 47.21875 15.09375 \nQ 47.21875 7.46875 41.1875 3.015625 \nQ 35.15625 -1.421875 24.609375 -1.421875 \nQ 20.21875 -1.421875 15.453125 -0.5625 \nQ 10.6875 0.296875 5.421875 2 \nL 5.421875 11.28125 \nQ 10.40625 8.6875 15.234375 7.390625 \nQ 20.0625 6.109375 24.8125 6.109375 \nQ 31.15625 6.109375 34.5625 8.28125 \nQ 37.984375 10.453125 37.984375 14.40625 \nQ 37.984375 18.0625 35.515625 20.015625 \nQ 33.0625 21.96875 24.703125 23.78125 \nL 21.578125 24.515625 \nQ 13.234375 26.265625 9.515625 29.90625 \nQ 5.8125 33.546875 5.8125 39.890625 \nQ 5.8125 47.609375 11.28125 51.796875 \nQ 16.75 56 26.8125 56 \nQ 31.78125 56 36.171875 55.265625 \nQ 40.578125 54.546875 44.28125 53.078125 \nz\n\" id=\"DejaVuSans-115\"/>\n      <path d=\"M 48.78125 52.59375 \nL 48.78125 44.1875 \nQ 44.96875 46.296875 41.140625 47.34375 \nQ 37.3125 48.390625 33.40625 48.390625 \nQ 24.65625 48.390625 19.8125 42.84375 \nQ 14.984375 37.3125 14.984375 27.296875 \nQ 14.984375 17.28125 19.8125 11.734375 \nQ 24.65625 6.203125 33.40625 6.203125 \nQ 37.3125 6.203125 41.140625 7.25 \nQ 44.96875 8.296875 48.78125 10.40625 \nL 48.78125 2.09375 \nQ 45.015625 0.34375 40.984375 -0.53125 \nQ 36.96875 -1.421875 32.421875 -1.421875 \nQ 20.0625 -1.421875 12.78125 6.34375 \nQ 5.515625 14.109375 5.515625 27.296875 \nQ 5.515625 40.671875 12.859375 48.328125 \nQ 20.21875 56 33.015625 56 \nQ 37.15625 56 41.109375 55.140625 \nQ 45.0625 54.296875 48.78125 52.59375 \nz\n\" id=\"DejaVuSans-99\"/>\n      <path d=\"M 56.203125 29.59375 \nL 56.203125 25.203125 \nL 14.890625 25.203125 \nQ 15.484375 15.921875 20.484375 11.0625 \nQ 25.484375 6.203125 34.421875 6.203125 \nQ 39.59375 6.203125 44.453125 7.46875 \nQ 49.3125 8.734375 54.109375 11.28125 \nL 54.109375 2.78125 \nQ 49.265625 0.734375 44.1875 -0.34375 \nQ 39.109375 -1.421875 33.890625 -1.421875 \nQ 20.796875 -1.421875 13.15625 6.1875 \nQ 5.515625 13.8125 5.515625 26.8125 \nQ 5.515625 40.234375 12.765625 48.109375 \nQ 20.015625 56 32.328125 56 \nQ 43.359375 56 49.78125 48.890625 \nQ 56.203125 41.796875 56.203125 29.59375 \nz\nM 47.21875 32.234375 \nQ 47.125 39.59375 43.09375 43.984375 \nQ 39.0625 48.390625 32.421875 48.390625 \nQ 24.90625 48.390625 20.390625 44.140625 \nQ 15.875 39.890625 15.1875 32.171875 \nz\n\" id=\"DejaVuSans-101\"/>\n     </defs>\n     <use xlink:href=\"#DejaVuSans-71\"/>\n     <use x=\"77.490234\" xlink:href=\"#DejaVuSans-114\"/>\n     <use x=\"118.603516\" xlink:href=\"#DejaVuSans-97\"/>\n     <use x=\"179.882812\" xlink:href=\"#DejaVuSans-121\"/>\n     <use x=\"239.0625\" xlink:href=\"#DejaVuSans-115\"/>\n     <use x=\"291.162109\" xlink:href=\"#DejaVuSans-99\"/>\n     <use x=\"346.142578\" xlink:href=\"#DejaVuSans-97\"/>\n     <use x=\"407.421875\" xlink:href=\"#DejaVuSans-108\"/>\n     <use x=\"435.205078\" xlink:href=\"#DejaVuSans-101\"/>\n    </g>\n   </g>\n  </g>\n </g>\n <defs>\n  <clipPath id=\"p367a031a20\">\n   <rect height=\"202.909091\" width=\"202.909091\" x=\"26.925\" y=\"22.318125\"/>\n  </clipPath>\n  <clipPath id=\"pe5f4f1a560\">\n   <rect height=\"202.909091\" width=\"202.909091\" x=\"270.415909\" y=\"22.318125\"/>\n  </clipPath>\n </defs>\n</svg>\n",
      "image/png": "[encoded data removed]"
     },
     "metadata": {
      "needs_background": "light"
     }
    }
   ],
   "source": [
    "import matplotlib.pyplot as plt\n",
    "\n",
    "# pip install scikit-image\n",
    "from skimage import data\n",
    "from skimage.color import rgb2gray, rgba2rgb\n",
    "\n",
    "grayscale = rgb2gray(rgba2rgb(numpydata))\n",
    "\n",
    "fig, axes = plt.subplots(1, 2, figsize=(8, 4))\n",
    "ax = axes.ravel()\n",
    "\n",
    "ax[0].imshow(img)\n",
    "ax[0].set_title(\"Original\")\n",
    "ax[1].imshow(grayscale, cmap=plt.cm.gray)\n",
    "ax[1].set_title(\"Grayscale\")\n"
   ]
  },
  {
   "source": [
    "### Reconfigurar la imagen a vector de 784 entradas"
   ],
   "cell_type": "markdown",
   "metadata": {}
  },
  {
   "cell_type": "code",
   "execution_count": 116,
   "metadata": {},
   "outputs": [
    {
     "output_type": "execute_result",
     "data": {
      "text/plain": [
       "array([0.03893294, 0.03893294, 0.03893294, 0.03893294, 0.03893294,\n",
       "       0.03893294, 0.03893294, 0.03893294, 0.03893294, 0.03893294,\n",
       "       0.03893294, 0.03893294, 0.03893294, 0.03893294, 0.03893294,\n",
       "       0.03893294, 0.03893294, 0.03165529, 0.0171    , 0.03893294,\n",
       "       0.03893294, 0.03893294, 0.03893294, 0.03893294, 0.03893294,\n",
       "       0.03893294, 0.03893294, 0.03893294, 0.03893294, 0.03893294,\n",
       "       0.03893294, 0.03893294, 0.03893294, 0.03893294, 0.03893294,\n",
       "       0.03893294, 0.03893294, 0.03893294, 0.02437765, 0.01346118,\n",
       "       0.03893294, 0.03893294, 0.03893294, 0.03893294, 0.03529412,\n",
       "       0.08259882, 0.19176353, 0.03893294, 0.03893294, 0.03893294,\n",
       "       0.03893294, 0.03893294, 0.03893294, 0.03893294, 0.03893294,\n",
       "       0.03893294, 0.03893294, 0.03893294, 0.03893294, 0.03893294,\n",
       "       0.03893294, 0.03893294, 0.03893294, 0.03893294, 0.03893294,\n",
       "       0.02073882, 0.21751804, 0.35579333, 0.02801647, 0.03893294,\n",
       "       0.03893294, 0.03893294, 0.00618353, 0.37398745, 0.80757294,\n",
       "       0.07896   , 0.03165529, 0.03893294, 0.03893294, 0.03893294,\n",
       "       0.03893294, 0.03893294, 0.03893294, 0.03893294, 0.03893294,\n",
       "       0.03893294, 0.03893294, 0.03893294, 0.03893294, 0.03893294,\n",
       "       0.03893294, 0.03893294, 0.03893294, 0.00618353, 0.56348902,\n",
       "       0.73451373, 0.02801647, 0.03529412, 0.03893294, 0.03893294,\n",
       "       0.00618353, 0.5452949 , 0.82940588, 0.08623765, 0.03165529,\n",
       "       0.03893294, 0.03893294, 0.03893294, 0.03893294, 0.03893294,\n",
       "       0.03893294, 0.03893294, 0.03893294, 0.03893294, 0.03893294,\n",
       "       0.03893294, 0.03893294, 0.03893294, 0.03893294, 0.03893294,\n",
       "       0.03893294, 0.0171    , 0.65082078, 0.61443255, 0.00982235,\n",
       "       0.03893294, 0.03893294, 0.03529412, 0.02073882, 0.66537608,\n",
       "       0.81848941, 0.08623765, 0.03165529, 0.03893294, 0.03893294,\n",
       "       0.03893294, 0.03893294, 0.03893294, 0.03893294, 0.03893294,\n",
       "       0.03893294, 0.03893294, 0.03893294, 0.03893294, 0.03893294,\n",
       "       0.03893294, 0.03893294, 0.03893294, 0.03893294, 0.0171    ,\n",
       "       0.65809843, 0.58896078, 0.00618353, 0.03893294, 0.03893294,\n",
       "       0.03529412, 0.02801647, 0.69448667, 0.81848941, 0.08623765,\n",
       "       0.03165529, 0.03893294, 0.03893294, 0.03893294, 0.03893294,\n",
       "       0.03893294, 0.03893294, 0.03893294, 0.03893294, 0.03893294,\n",
       "       0.03893294, 0.03893294, 0.03893294, 0.03893294, 0.03893294,\n",
       "       0.03893294, 0.03893294, 0.0171    , 0.65809843, 0.59259961,\n",
       "       0.00618353, 0.03893294, 0.03893294, 0.03529412, 0.02801647,\n",
       "       0.68720902, 0.82576706, 0.09351529, 0.03165529, 0.03893294,\n",
       "       0.03893294, 0.03893294, 0.03893294, 0.03893294, 0.03893294,\n",
       "       0.03893294, 0.03893294, 0.03893294, 0.03893294, 0.03893294,\n",
       "       0.03893294, 0.03893294, 0.03893294, 0.03893294, 0.03893294,\n",
       "       0.0171    , 0.66173725, 0.59623843, 0.00982235, 0.03893294,\n",
       "       0.03893294, 0.03529412, 0.02801647, 0.68720902, 0.85123882,\n",
       "       0.11898706, 0.02801647, 0.03893294, 0.03893294, 0.03893294,\n",
       "       0.03893294, 0.03893294, 0.03893294, 0.03893294, 0.03893294,\n",
       "       0.03893294, 0.03893294, 0.03893294, 0.03893294, 0.03893294,\n",
       "       0.03893294, 0.03893294, 0.03893294, 0.0171    , 0.65809843,\n",
       "       0.59623843, 0.00618353, 0.03893294, 0.03893294, 0.03529412,\n",
       "       0.03893294, 0.71268078, 0.87671059, 0.15901412, 0.02073882,\n",
       "       0.03893294, 0.03893294, 0.03893294, 0.03893294, 0.03893294,\n",
       "       0.03893294, 0.03893294, 0.03893294, 0.03893294, 0.03893294,\n",
       "       0.03893294, 0.03893294, 0.03893294, 0.03893294, 0.03893294,\n",
       "       0.03893294, 0.0171    , 0.65809843, 0.58896078, 0.00254471,\n",
       "       0.02437765, 0.02437765, 0.02073882, 0.03529412, 0.72359725,\n",
       "       0.90218235, 0.20660157, 0.0171    , 0.03893294, 0.03893294,\n",
       "       0.03893294, 0.03893294, 0.03893294, 0.03893294, 0.03893294,\n",
       "       0.03893294, 0.03893294, 0.03893294, 0.03893294, 0.03893294,\n",
       "       0.03893294, 0.03893294, 0.03893294, 0.03529412, 0.02437765,\n",
       "       0.69448667, 0.60351608, 0.11170941, 0.14082   , 0.14082   ,\n",
       "       0.13718118, 0.10807059, 0.7308749 , 0.91309882, 0.23571216,\n",
       "       0.01346118, 0.03893294, 0.03893294, 0.03893294, 0.03893294,\n",
       "       0.03893294, 0.03893294, 0.03893294, 0.03893294, 0.03893294,\n",
       "       0.03893294, 0.03893294, 0.03893294, 0.03893294, 0.03893294,\n",
       "       0.03893294, 0.03529412, 0.03529412, 0.71268078, 0.91673765,\n",
       "       0.86943294, 0.86943294, 0.86943294, 0.87307176, 0.84032235,\n",
       "       0.86943294, 0.90946   , 0.2429898 , 0.01346118, 0.03893294,\n",
       "       0.03893294, 0.03893294, 0.03893294, 0.03893294, 0.03893294,\n",
       "       0.03893294, 0.03893294, 0.03893294, 0.03893294, 0.03893294,\n",
       "       0.03893294, 0.03893294, 0.03893294, 0.03893294, 0.03893294,\n",
       "       0.03165529, 0.21359647, 0.33396039, 0.32668275, 0.32668275,\n",
       "       0.32668275, 0.32668275, 0.42129216, 0.82940588, 0.72751882,\n",
       "       0.11170941, 0.02801647, 0.03893294, 0.03893294, 0.03893294,\n",
       "       0.03893294, 0.03893294, 0.03893294, 0.03893294, 0.03893294,\n",
       "       0.03893294, 0.03893294, 0.03893294, 0.03893294, 0.03893294,\n",
       "       0.03893294, 0.03893294, 0.03893294, 0.03893294, 0.02073882,\n",
       "       0.00618353, 0.00982235, 0.00982235, 0.00982235, 0.00618353,\n",
       "       0.00982235, 0.75299059, 0.46495804, 0.00254471, 0.03893294,\n",
       "       0.03893294, 0.03893294, 0.03893294, 0.03893294, 0.03893294,\n",
       "       0.03893294, 0.03893294, 0.03893294, 0.03893294, 0.03893294,\n",
       "       0.03893294, 0.03893294, 0.03893294, 0.03893294, 0.03893294,\n",
       "       0.03893294, 0.03893294, 0.03893294, 0.03893294, 0.03893294,\n",
       "       0.03893294, 0.03893294, 0.03529412, 0.04257176, 0.75299059,\n",
       "       0.47615725, 0.00254471, 0.03893294, 0.03893294, 0.03893294,\n",
       "       0.03893294, 0.03893294, 0.03893294, 0.03893294, 0.03893294,\n",
       "       0.03893294, 0.03893294, 0.03893294, 0.03893294, 0.03893294,\n",
       "       0.03893294, 0.03893294, 0.03893294, 0.03893294, 0.03893294,\n",
       "       0.03893294, 0.03893294, 0.03893294, 0.03893294, 0.03893294,\n",
       "       0.03529412, 0.04257176, 0.75299059, 0.47615725, 0.00254471,\n",
       "       0.03893294, 0.03893294, 0.03893294, 0.03893294, 0.03893294,\n",
       "       0.03893294, 0.03893294, 0.03893294, 0.03893294, 0.03893294,\n",
       "       0.03893294, 0.03893294, 0.03893294, 0.03893294, 0.03893294,\n",
       "       0.03893294, 0.03893294, 0.03893294, 0.03893294, 0.03893294,\n",
       "       0.03893294, 0.03893294, 0.03893294, 0.03529412, 0.04621059,\n",
       "       0.75662941, 0.47979608, 0.00254471, 0.03893294, 0.03893294,\n",
       "       0.03893294, 0.03893294, 0.03893294, 0.03893294, 0.03893294,\n",
       "       0.03893294, 0.03893294, 0.03893294, 0.03893294, 0.03893294,\n",
       "       0.03893294, 0.03893294, 0.03893294, 0.03893294, 0.03893294,\n",
       "       0.03893294, 0.03893294, 0.03893294, 0.03893294, 0.03893294,\n",
       "       0.03893294, 0.03529412, 0.04621059, 0.75998549, 0.47587451,\n",
       "       0.00254471, 0.03893294, 0.03893294, 0.03893294, 0.03893294,\n",
       "       0.03893294, 0.03893294, 0.03893294, 0.03893294, 0.03893294,\n",
       "       0.03893294, 0.03893294, 0.03893294, 0.03893294, 0.03893294,\n",
       "       0.03893294, 0.03893294, 0.03893294, 0.03893294, 0.03893294,\n",
       "       0.03893294, 0.03893294, 0.03893294, 0.03893294, 0.03529412,\n",
       "       0.04257176, 0.74906902, 0.4904298 , 0.00254471, 0.03893294,\n",
       "       0.03893294, 0.03893294, 0.03893294, 0.03893294, 0.03893294,\n",
       "       0.03893294, 0.03893294, 0.03893294, 0.03893294, 0.03893294,\n",
       "       0.03893294, 0.03893294, 0.03893294, 0.03893294, 0.03893294,\n",
       "       0.03893294, 0.03893294, 0.03893294, 0.03893294, 0.03893294,\n",
       "       0.03893294, 0.03893294, 0.03529412, 0.03165529, 0.71631961,\n",
       "       0.53409569, 0.00618353, 0.03893294, 0.03893294, 0.03893294,\n",
       "       0.03893294, 0.03893294, 0.03893294, 0.03893294, 0.03893294,\n",
       "       0.03893294, 0.03893294, 0.03893294, 0.03893294, 0.03893294,\n",
       "       0.03893294, 0.03893294, 0.03893294, 0.03893294, 0.03893294,\n",
       "       0.03893294, 0.03893294, 0.03893294, 0.03893294, 0.03893294,\n",
       "       0.03529412, 0.02801647, 0.70904196, 0.53801725, 0.00618353,\n",
       "       0.03893294, 0.03893294, 0.03893294, 0.03893294, 0.03893294,\n",
       "       0.03893294, 0.03893294, 0.03893294, 0.03893294, 0.03893294,\n",
       "       0.03893294, 0.03893294, 0.03893294, 0.03893294, 0.03893294,\n",
       "       0.03893294, 0.03893294, 0.03893294, 0.03893294, 0.03893294,\n",
       "       0.03893294, 0.03893294, 0.03893294, 0.03893294, 0.02073882,\n",
       "       0.6835702 , 0.59987725, 0.00618353, 0.03893294, 0.03893294,\n",
       "       0.03893294, 0.03893294, 0.03893294, 0.03893294, 0.03893294,\n",
       "       0.03893294, 0.03893294, 0.03893294, 0.03893294, 0.03893294,\n",
       "       0.03893294, 0.03893294, 0.03893294, 0.03893294, 0.03893294,\n",
       "       0.03893294, 0.03893294, 0.03893294, 0.03893294, 0.03893294,\n",
       "       0.03893294, 0.03893294, 0.01346118, 0.54893373, 0.49435137,\n",
       "       0.00982235, 0.03893294, 0.03893294, 0.03893294, 0.03893294,\n",
       "       0.03893294, 0.03893294, 0.03893294, 0.03893294, 0.03893294,\n",
       "       0.03893294, 0.03893294, 0.03893294, 0.03893294, 0.03893294,\n",
       "       0.03893294, 0.03893294, 0.03893294, 0.03893294, 0.03893294,\n",
       "       0.03893294, 0.03893294, 0.03893294, 0.03893294, 0.03893294,\n",
       "       0.03529412, 0.05712706, 0.05348824, 0.03529412, 0.03893294,\n",
       "       0.03893294, 0.03893294, 0.03893294, 0.03893294, 0.03893294,\n",
       "       0.03893294, 0.03893294, 0.03893294, 0.03893294, 0.03893294,\n",
       "       0.03893294, 0.03893294, 0.03893294, 0.03893294, 0.03893294,\n",
       "       0.03893294, 0.03893294, 0.03893294, 0.03893294, 0.03893294,\n",
       "       0.03893294, 0.03893294, 0.03893294, 0.03893294, 0.03529412,\n",
       "       0.03529412, 0.03893294, 0.03893294, 0.03893294, 0.03893294,\n",
       "       0.03893294, 0.03893294, 0.03893294, 0.03893294, 0.03893294,\n",
       "       0.03893294, 0.03893294, 0.03893294, 0.03893294, 0.03893294,\n",
       "       0.03893294, 0.03893294, 0.03893294, 0.03893294, 0.03893294,\n",
       "       0.03893294, 0.03893294, 0.03893294, 0.03893294, 0.03893294,\n",
       "       0.03893294, 0.03893294, 0.03893294, 0.03893294, 0.03893294,\n",
       "       0.03893294, 0.03893294, 0.03893294, 0.03893294, 0.03893294,\n",
       "       0.03893294, 0.03893294, 0.03893294, 0.03893294, 0.03893294,\n",
       "       0.03893294, 0.03893294, 0.03893294, 0.03893294, 0.03893294,\n",
       "       0.03893294, 0.03893294, 0.03893294, 0.03893294, 0.03893294,\n",
       "       0.03893294, 0.03893294, 0.03893294, 0.03893294, 0.03893294,\n",
       "       0.03893294, 0.03893294, 0.03893294, 0.03893294, 0.03893294,\n",
       "       0.03893294, 0.03893294, 0.03893294, 0.03893294, 0.03893294,\n",
       "       0.03893294, 0.03893294, 0.03893294, 0.03893294, 0.03893294,\n",
       "       0.03893294, 0.03893294, 0.03893294, 0.03893294, 0.03893294,\n",
       "       0.03893294, 0.03893294, 0.03893294, 0.03893294, 0.03893294,\n",
       "       0.03893294, 0.03893294, 0.03893294, 0.03893294, 0.03893294,\n",
       "       0.03893294, 0.03893294, 0.03893294, 0.03893294, 0.03893294,\n",
       "       0.03893294, 0.03893294, 0.03893294, 0.03893294])"
      ]
     },
     "metadata": {},
     "execution_count": 116
    }
   ],
   "source": [
    "import numpy as np\n",
    "\n",
    "img_vector = np.reshape(grayscale, 784)\n",
    "\n",
    "img_vector"
   ]
  },
  {
   "source": [
    "### Entrenar red neuronal"
   ],
   "cell_type": "markdown",
   "metadata": {}
  },
  {
   "cell_type": "code",
   "execution_count": 39,
   "metadata": {},
   "outputs": [
    {
     "output_type": "stream",
     "name": "stdout",
     "text": [
      "Train Labels (60000,)\nTrain Images (60000, 784)\n"
     ]
    },
    {
     "output_type": "execute_result",
     "data": {
      "text/plain": [
       "MLPClassifier(hidden_layer_sizes=(15,))"
      ]
     },
     "metadata": {},
     "execution_count": 39
    }
   ],
   "source": [
    "import os\n",
    "import gzip\n",
    "import numpy as np\n",
    "from sklearn.neural_network import MLPClassifier\n",
    "\n",
    "train_labels_path = \"../notebooks/datasets/mnist/train-labels-idx1-ubyte.gz\"\n",
    "\n",
    "with gzip.open(train_labels_path, \"rb\") as data:\n",
    "    train_labels = np.frombuffer(data.read(), dtype=np.uint8, offset=8)\n",
    "\n",
    "train_images_path = \"../notebooks/datasets/mnist/train-images-idx3-ubyte.gz\"\n",
    "\n",
    "with gzip.open(train_images_path, \"rb\") as data:\n",
    "    train_images = np.frombuffer(data.read(), dtype=np.uint8, offset=16).reshape(len(train_labels), 784)\n",
    "\n",
    "print(\"Train Labels\", train_labels.shape)\n",
    "print(\"Train Images\", train_images.shape)\n",
    "\n",
    "def enconder(digit):\n",
    "    if digit == 0:\n",
    "        return [1, 0, 0, 0, 0, 0, 0, 0, 0, 0]\n",
    "    elif digit == 1:\n",
    "        return [0, 1, 0, 0, 0, 0, 0, 0, 0, 0]\n",
    "    elif digit == 2:\n",
    "        return [0, 0, 1, 0, 0, 0, 0, 0, 0, 0]\n",
    "    elif digit == 3:\n",
    "        return [0, 0, 0, 1, 0, 0, 0, 0, 0, 0]\n",
    "    elif digit == 4:\n",
    "        return [0, 0, 0, 0, 1, 0, 0, 0, 0, 0]\n",
    "    elif digit == 5:\n",
    "        return [0, 0, 0, 0, 0, 1, 0, 0, 0, 0]\n",
    "    elif digit == 6:\n",
    "        return [0, 0, 0, 0, 0, 0, 1, 0, 0, 0]\n",
    "    elif digit == 7:\n",
    "        return [0, 0, 0, 0, 0, 0, 0, 1, 0, 0]\n",
    "    elif digit == 8:\n",
    "        return [0, 0, 0, 0, 0, 0, 0, 0, 1, 0]\n",
    "    elif digit == 9:\n",
    "        return [0, 0, 0, 0, 0, 0, 0, 0, 0, 1]\n",
    "    else:\n",
    "        return [0, 0, 0, 0, 0, 0, 0, 0, 0, 0]\n",
    "\n",
    "train_labels_enc = np.array(list(map(enconder, train_labels)))\n",
    "\n",
    "clf = MLPClassifier(hidden_layer_sizes=(15,))\n",
    "\n",
    "clf.fit(train_images, train_labels_enc)"
   ]
  },
  {
   "cell_type": "code",
   "execution_count": 118,
   "metadata": {},
   "outputs": [
    {
     "output_type": "stream",
     "name": "stdout",
     "text": [
      "predict_label:  [0 0 0 0 0 0 1 0 0 0]\npredict_number:  6\n"
     ]
    }
   ],
   "source": [
    "# test_image = img_vector.reshape((28, 28))\n",
    "\n",
    "def decode(dig_enc):\n",
    "    maxv = 0\n",
    "    maxi = 0\n",
    "    for index, value in enumerate(dig_enc):\n",
    "        if value > maxv:\n",
    "            maxv = value\n",
    "            maxi = index\n",
    "    return maxi\n",
    "\n",
    "predict_label = clf.predict([img_vector])\n",
    "\n",
    "print(\"predict_label: \", predict_label[0])\n",
    "print(\"predict_number: \", decode(predict_label[0]))\n"
   ]
  },
  {
   "cell_type": "code",
   "execution_count": 88,
   "metadata": {},
   "outputs": [
    {
     "output_type": "execute_result",
     "data": {
      "text/plain": [
       "array([[0, 0, 0, 0, 0, 0, 0, 1, 0, 0]])"
      ]
     },
     "metadata": {},
     "execution_count": 88
    }
   ],
   "source": [
    "# test images\n",
    "\n",
    "test_labels_path = \"../notebooks/datasets/mnist/t10k-labels-idx1-ubyte.gz\"\n",
    "\n",
    "with gzip.open(test_labels_path, \"rb\") as data:\n",
    "    test_labels = np.frombuffer(data.read(), dtype=np.uint8, offset=8)\n",
    "\n",
    "test_images_path = \"../notebooks/datasets/mnist/t10k-images-idx3-ubyte.gz\"\n",
    "\n",
    "with gzip.open(test_images_path, \"rb\") as data:\n",
    "    test_images = np.frombuffer(data.read(), dtype=np.uint8, offset=16).reshape(len(test_labels), 784)\n",
    "\n",
    "predict_label = clf.predict([test_images[0]])\n",
    "\n",
    "predict_label"
   ]
  },
  {
   "cell_type": "code",
   "execution_count": null,
   "metadata": {},
   "outputs": [],
   "source": []
  }
 ]
}