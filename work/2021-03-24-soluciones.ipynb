{
 "metadata": {
  "language_info": {
   "codemirror_mode": {
    "name": "ipython",
    "version": 3
   },
   "file_extension": ".py",
   "mimetype": "text/x-python",
   "name": "python",
   "nbconvert_exporter": "python",
   "pygments_lexer": "ipython3",
   "version": "3.9.2-final"
  },
  "orig_nbformat": 2,
  "kernelspec": {
   "name": "python3",
   "display_name": "Python 3",
   "language": "python"
  }
 },
 "nbformat": 4,
 "nbformat_minor": 2,
 "cells": [
  {
   "source": [
    "# Machine Learning IPN - Trabajo 24 marzo 2021\n",
    "## Rodolfo Martínez Vega"
   ],
   "cell_type": "markdown",
   "metadata": {}
  },
  {
   "source": [
    "En este trabajo usaremos a `datasets/iris.data`, el cuál contiene 5 columnas con información de las medidas de las flores Iris y su clasificación de muestras. En las siguientes celdas se muestra la extracción y estructuración de las 150 muestras en los conjuntos `X` y `Y`.\n",
    "\n",
    "Revise los códigos y resuelva los puntos marcados al final."
   ],
   "cell_type": "markdown",
   "metadata": {}
  },
  {
   "source": [
    "## Ejercicios - Redes neuronales\n",
    "\n",
    "1. Continua el estudio de clase para el reconocimiento de dígitos de `notebooks/12. Multilayer Neural Network Classifier.ipynb`.\n",
    "2. Dibuja en paint un dígito a mano y guardalo como una imagen PNG.\n",
    "3. Abre la imagen en Python con Pillow. Pista https://www.geeksforgeeks.org/python-pil-image-resize-method/\n",
    "4. Escala la imagen a 28x28 pixeles.\n",
    "5. Convierte la imagen a un array de numpy. Pista https://www.geeksforgeeks.org/how-to-convert-images-to-numpy-array/\n",
    "6. Usa `rgb2gray` de `skimage` para convertir la imagen de RGB a escala de grises. https://scikit-image.org/docs/stable/auto_examples/color_exposure/plot_rgb_to_gray.html#sphx-glr-auto-examples-color-exposure-plot-rgb-to-gray-py\n",
    "7. Refigura la imagen para que sea un vector de 784 entradas.\n",
    "8. Predice que dígito responde el clasificador y comenta si funcionó o se equivocó."
   ],
   "cell_type": "markdown",
   "metadata": {}
  },
  {
   "source": [
    "## Solución"
   ],
   "cell_type": "markdown",
   "metadata": {}
  },
  {
   "source": [
    "### Leer y escalar la imagen"
   ],
   "cell_type": "markdown",
   "metadata": {}
  },
  {
   "cell_type": "code",
   "execution_count": 123,
   "metadata": {},
   "outputs": [
    {
     "output_type": "execute_result",
     "data": {
      "text/plain": [
       "<PIL.Image.Image image mode=RGBA size=28x28 at 0x7F3A8F7C6DC0>"
      ],
      "image/png": "[encoded data removed]"
     },
     "metadata": {},
     "execution_count": 123
    }
   ],
   "source": [
    "from PIL import Image\n",
    "\n",
    "img = Image.open(r\"./2021-03-24-img-8n.png\")\n",
    "\n",
    "# Escalar la imagen a 28x28 pixeles\n",
    "newsize = (28, 28)\n",
    "img = img.resize(newsize)\n",
    "\n",
    "img"
   ]
  },
  {
   "source": [
    "### Convertir la imagen en un array de Numpy"
   ],
   "cell_type": "markdown",
   "metadata": {}
  },
  {
   "cell_type": "code",
   "execution_count": 124,
   "metadata": {},
   "outputs": [
    {
     "output_type": "stream",
     "name": "stdout",
     "text": [
      "(28, 28, 4)\n"
     ]
    }
   ],
   "source": [
    "from numpy import asarray\n",
    "\n",
    "numpydata = asarray(img)\n",
    "\n",
    "print(numpydata.shape)"
   ]
  },
  {
   "source": [
    "### Convertir a escala de grises"
   ],
   "cell_type": "markdown",
   "metadata": {}
  },
  {
   "cell_type": "code",
   "execution_count": 125,
   "metadata": {},
   "outputs": [
    {
     "output_type": "execute_result",
     "data": {
      "text/plain": [
       "Text(0.5, 1.0, 'Grayscale')"
      ]
     },
     "metadata": {},
     "execution_count": 125
    },
    {
     "output_type": "display_data",
     "data": {
      "text/plain": "<Figure size 576x288 with 2 Axes>",
      "image/svg+xml": "<?xml version=\"1.0\" encoding=\"utf-8\" standalone=\"no\"?>\n<!DOCTYPE svg PUBLIC \"-//W3C//DTD SVG 1.1//EN\"\n  \"http://www.w3.org/Graphics/SVG/1.1/DTD/svg11.dtd\">\n<!-- Created with matplotlib (https://matplotlib.org/) -->\n<svg height=\"249.105341pt\" version=\"1.1\" viewBox=\"0 0 480.525 249.105341\" width=\"480.525pt\" xmlns=\"http://www.w3.org/2000/svg\" xmlns:xlink=\"http://www.w3.org/1999/xlink\">\n <metadata>\n  <rdf:RDF xmlns:cc=\"http://creativecommons.org/ns#\" xmlns:dc=\"http://purl.org/dc/elements/1.1/\" xmlns:rdf=\"http://www.w3.org/1999/02/22-rdf-syntax-ns#\">\n   <cc:Work>\n    <dc:type rdf:resource=\"http://purl.org/dc/dcmitype/StillImage\"/>\n    <dc:date>2021-03-27T00:16:12.137627</dc:date>\n    <dc:format>image/svg+xml</dc:format>\n    <dc:creator>\n     <cc:Agent>\n      <dc:title>Matplotlib v3.3.4, https://matplotlib.org/</dc:title>\n     </cc:Agent>\n    </dc:creator>\n   </cc:Work>\n  </rdf:RDF>\n </metadata>\n <defs>\n  <style type=\"text/css\">*{stroke-linecap:butt;stroke-linejoin:round;}</style>\n </defs>\n <g id=\"figure_1\">\n  <g id=\"patch_1\">\n   <path d=\"M 0 249.105341 \nL 480.525 249.105341 \nL 480.525 0 \nL 0 0 \nz\n\" style=\"fill:none;\"/>\n  </g>\n  <g id=\"axes_1\">\n   <g id=\"patch_2\">\n    <path d=\"M 26.925 225.227216 \nL 229.834091 225.227216 \nL 229.834091 22.318125 \nL 26.925 22.318125 \nz\n\" style=\"fill:#ffffff;\"/>\n   </g>\n   <g clip-path=\"url(#p44794dca2a)\">\n    <image height=\"203\" id=\"imagecb8fbbbaf2\" transform=\"scale(1 -1)translate(0 -203)\" width=\"203\" x=\"26.925\" xlink:href=\"data:image/png;base64,\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\" y=\"-22.227216\"/>\n   </g>\n   <g id=\"matplotlib.axis_1\">\n    <g id=\"xtick_1\">\n     <g id=\"line2d_1\">\n      <defs>\n       <path d=\"M 0 0 \nL 0 3.5 \n\" id=\"m29feee6bd6\" style=\"stroke:#000000;stroke-width:0.8;\"/>\n      </defs>\n      <g>\n       <use style=\"stroke:#000000;stroke-width:0.8;\" x=\"30.548377\" xlink:href=\"#m29feee6bd6\" y=\"225.227216\"/>\n      </g>\n     </g>\n     <g id=\"text_1\">\n      <!-- 0 -->\n      <g transform=\"translate(27.367127 239.825653)scale(0.1 -0.1)\">\n       <defs>\n        <path d=\"M 31.78125 66.40625 \nQ 24.171875 66.40625 20.328125 58.90625 \nQ 16.5 51.421875 16.5 36.375 \nQ 16.5 21.390625 20.328125 13.890625 \nQ 24.171875 6.390625 31.78125 6.390625 \nQ 39.453125 6.390625 43.28125 13.890625 \nQ 47.125 21.390625 47.125 36.375 \nQ 47.125 51.421875 43.28125 58.90625 \nQ 39.453125 66.40625 31.78125 66.40625 \nz\nM 31.78125 74.21875 \nQ 44.046875 74.21875 50.515625 64.515625 \nQ 56.984375 54.828125 56.984375 36.375 \nQ 56.984375 17.96875 50.515625 8.265625 \nQ 44.046875 -1.421875 31.78125 -1.421875 \nQ 19.53125 -1.421875 13.0625 8.265625 \nQ 6.59375 17.96875 6.59375 36.375 \nQ 6.59375 54.828125 13.0625 64.515625 \nQ 19.53125 74.21875 31.78125 74.21875 \nz\n\" id=\"DejaVuSans-48\"/>\n       </defs>\n       <use xlink:href=\"#DejaVuSans-48\"/>\n      </g>\n     </g>\n    </g>\n    <g id=\"xtick_2\">\n     <g id=\"line2d_2\">\n      <g>\n       <use style=\"stroke:#000000;stroke-width:0.8;\" x=\"66.782143\" xlink:href=\"#m29feee6bd6\" y=\"225.227216\"/>\n      </g>\n     </g>\n     <g id=\"text_2\">\n      <!-- 5 -->\n      <g transform=\"translate(63.600893 239.825653)scale(0.1 -0.1)\">\n       <defs>\n        <path d=\"M 10.796875 72.90625 \nL 49.515625 72.90625 \nL 49.515625 64.59375 \nL 19.828125 64.59375 \nL 19.828125 46.734375 \nQ 21.96875 47.46875 24.109375 47.828125 \nQ 26.265625 48.1875 28.421875 48.1875 \nQ 40.625 48.1875 47.75 41.5 \nQ 54.890625 34.8125 54.890625 23.390625 \nQ 54.890625 11.625 47.5625 5.09375 \nQ 40.234375 -1.421875 26.90625 -1.421875 \nQ 22.3125 -1.421875 17.546875 -0.640625 \nQ 12.796875 0.140625 7.71875 1.703125 \nL 7.71875 11.625 \nQ 12.109375 9.234375 16.796875 8.0625 \nQ 21.484375 6.890625 26.703125 6.890625 \nQ 35.15625 6.890625 40.078125 11.328125 \nQ 45.015625 15.765625 45.015625 23.390625 \nQ 45.015625 31 40.078125 35.4375 \nQ 35.15625 39.890625 26.703125 39.890625 \nQ 22.75 39.890625 18.8125 39.015625 \nQ 14.890625 38.140625 10.796875 36.28125 \nz\n\" id=\"DejaVuSans-53\"/>\n       </defs>\n       <use xlink:href=\"#DejaVuSans-53\"/>\n      </g>\n     </g>\n    </g>\n    <g id=\"xtick_3\">\n     <g id=\"line2d_3\">\n      <g>\n       <use style=\"stroke:#000000;stroke-width:0.8;\" x=\"103.015909\" xlink:href=\"#m29feee6bd6\" y=\"225.227216\"/>\n      </g>\n     </g>\n     <g id=\"text_3\">\n      <!-- 10 -->\n      <g transform=\"translate(96.653409 239.825653)scale(0.1 -0.1)\">\n       <defs>\n        <path d=\"M 12.40625 8.296875 \nL 28.515625 8.296875 \nL 28.515625 63.921875 \nL 10.984375 60.40625 \nL 10.984375 69.390625 \nL 28.421875 72.90625 \nL 38.28125 72.90625 \nL 38.28125 8.296875 \nL 54.390625 8.296875 \nL 54.390625 0 \nL 12.40625 0 \nz\n\" id=\"DejaVuSans-49\"/>\n       </defs>\n       <use xlink:href=\"#DejaVuSans-49\"/>\n       <use x=\"63.623047\" xlink:href=\"#DejaVuSans-48\"/>\n      </g>\n     </g>\n    </g>\n    <g id=\"xtick_4\">\n     <g id=\"line2d_4\">\n      <g>\n       <use style=\"stroke:#000000;stroke-width:0.8;\" x=\"139.249675\" xlink:href=\"#m29feee6bd6\" y=\"225.227216\"/>\n      </g>\n     </g>\n     <g id=\"text_4\">\n      <!-- 15 -->\n      <g transform=\"translate(132.887175 239.825653)scale(0.1 -0.1)\">\n       <use xlink:href=\"#DejaVuSans-49\"/>\n       <use x=\"63.623047\" xlink:href=\"#DejaVuSans-53\"/>\n      </g>\n     </g>\n    </g>\n    <g id=\"xtick_5\">\n     <g id=\"line2d_5\">\n      <g>\n       <use style=\"stroke:#000000;stroke-width:0.8;\" x=\"175.483442\" xlink:href=\"#m29feee6bd6\" y=\"225.227216\"/>\n      </g>\n     </g>\n     <g id=\"text_5\">\n      <!-- 20 -->\n      <g transform=\"translate(169.120942 239.825653)scale(0.1 -0.1)\">\n       <defs>\n        <path d=\"M 19.1875 8.296875 \nL 53.609375 8.296875 \nL 53.609375 0 \nL 7.328125 0 \nL 7.328125 8.296875 \nQ 12.9375 14.109375 22.625 23.890625 \nQ 32.328125 33.6875 34.8125 36.53125 \nQ 39.546875 41.84375 41.421875 45.53125 \nQ 43.3125 49.21875 43.3125 52.78125 \nQ 43.3125 58.59375 39.234375 62.25 \nQ 35.15625 65.921875 28.609375 65.921875 \nQ 23.96875 65.921875 18.8125 64.3125 \nQ 13.671875 62.703125 7.8125 59.421875 \nL 7.8125 69.390625 \nQ 13.765625 71.78125 18.9375 73 \nQ 24.125 74.21875 28.421875 74.21875 \nQ 39.75 74.21875 46.484375 68.546875 \nQ 53.21875 62.890625 53.21875 53.421875 \nQ 53.21875 48.921875 51.53125 44.890625 \nQ 49.859375 40.875 45.40625 35.40625 \nQ 44.1875 33.984375 37.640625 27.21875 \nQ 31.109375 20.453125 19.1875 8.296875 \nz\n\" id=\"DejaVuSans-50\"/>\n       </defs>\n       <use xlink:href=\"#DejaVuSans-50\"/>\n       <use x=\"63.623047\" xlink:href=\"#DejaVuSans-48\"/>\n      </g>\n     </g>\n    </g>\n    <g id=\"xtick_6\">\n     <g id=\"line2d_6\">\n      <g>\n       <use style=\"stroke:#000000;stroke-width:0.8;\" x=\"211.717208\" xlink:href=\"#m29feee6bd6\" y=\"225.227216\"/>\n      </g>\n     </g>\n     <g id=\"text_6\">\n      <!-- 25 -->\n      <g transform=\"translate(205.354708 239.825653)scale(0.1 -0.1)\">\n       <use xlink:href=\"#DejaVuSans-50\"/>\n       <use x=\"63.623047\" xlink:href=\"#DejaVuSans-53\"/>\n      </g>\n     </g>\n    </g>\n   </g>\n   <g id=\"matplotlib.axis_2\">\n    <g id=\"ytick_1\">\n     <g id=\"line2d_7\">\n      <defs>\n       <path d=\"M 0 0 \nL -3.5 0 \n\" id=\"mf1b2a5a02f\" style=\"stroke:#000000;stroke-width:0.8;\"/>\n      </defs>\n      <g>\n       <use style=\"stroke:#000000;stroke-width:0.8;\" x=\"26.925\" xlink:href=\"#mf1b2a5a02f\" y=\"25.941502\"/>\n      </g>\n     </g>\n     <g id=\"text_7\">\n      <!-- 0 -->\n      <g transform=\"translate(13.5625 29.74072)scale(0.1 -0.1)\">\n       <use xlink:href=\"#DejaVuSans-48\"/>\n      </g>\n     </g>\n    </g>\n    <g id=\"ytick_2\">\n     <g id=\"line2d_8\">\n      <g>\n       <use style=\"stroke:#000000;stroke-width:0.8;\" x=\"26.925\" xlink:href=\"#mf1b2a5a02f\" y=\"62.175268\"/>\n      </g>\n     </g>\n     <g id=\"text_8\">\n      <!-- 5 -->\n      <g transform=\"translate(13.5625 65.974487)scale(0.1 -0.1)\">\n       <use xlink:href=\"#DejaVuSans-53\"/>\n      </g>\n     </g>\n    </g>\n    <g id=\"ytick_3\">\n     <g id=\"line2d_9\">\n      <g>\n       <use style=\"stroke:#000000;stroke-width:0.8;\" x=\"26.925\" xlink:href=\"#mf1b2a5a02f\" y=\"98.409034\"/>\n      </g>\n     </g>\n     <g id=\"text_9\">\n      <!-- 10 -->\n      <g transform=\"translate(7.2 102.208253)scale(0.1 -0.1)\">\n       <use xlink:href=\"#DejaVuSans-49\"/>\n       <use x=\"63.623047\" xlink:href=\"#DejaVuSans-48\"/>\n      </g>\n     </g>\n    </g>\n    <g id=\"ytick_4\">\n     <g id=\"line2d_10\">\n      <g>\n       <use style=\"stroke:#000000;stroke-width:0.8;\" x=\"26.925\" xlink:href=\"#mf1b2a5a02f\" y=\"134.6428\"/>\n      </g>\n     </g>\n     <g id=\"text_10\">\n      <!-- 15 -->\n      <g transform=\"translate(7.2 138.442019)scale(0.1 -0.1)\">\n       <use xlink:href=\"#DejaVuSans-49\"/>\n       <use x=\"63.623047\" xlink:href=\"#DejaVuSans-53\"/>\n      </g>\n     </g>\n    </g>\n    <g id=\"ytick_5\">\n     <g id=\"line2d_11\">\n      <g>\n       <use style=\"stroke:#000000;stroke-width:0.8;\" x=\"26.925\" xlink:href=\"#mf1b2a5a02f\" y=\"170.876567\"/>\n      </g>\n     </g>\n     <g id=\"text_11\">\n      <!-- 20 -->\n      <g transform=\"translate(7.2 174.675785)scale(0.1 -0.1)\">\n       <use xlink:href=\"#DejaVuSans-50\"/>\n       <use x=\"63.623047\" xlink:href=\"#DejaVuSans-48\"/>\n      </g>\n     </g>\n    </g>\n    <g id=\"ytick_6\">\n     <g id=\"line2d_12\">\n      <g>\n       <use style=\"stroke:#000000;stroke-width:0.8;\" x=\"26.925\" xlink:href=\"#mf1b2a5a02f\" y=\"207.110333\"/>\n      </g>\n     </g>\n     <g id=\"text_12\">\n      <!-- 25 -->\n      <g transform=\"translate(7.2 210.909552)scale(0.1 -0.1)\">\n       <use xlink:href=\"#DejaVuSans-50\"/>\n       <use x=\"63.623047\" xlink:href=\"#DejaVuSans-53\"/>\n      </g>\n     </g>\n    </g>\n   </g>\n   <g id=\"patch_3\">\n    <path d=\"M 26.925 225.227216 \nL 26.925 22.318125 \n\" style=\"fill:none;stroke:#000000;stroke-linecap:square;stroke-linejoin:miter;stroke-width:0.8;\"/>\n   </g>\n   <g id=\"patch_4\">\n    <path d=\"M 229.834091 225.227216 \nL 229.834091 22.318125 \n\" style=\"fill:none;stroke:#000000;stroke-linecap:square;stroke-linejoin:miter;stroke-width:0.8;\"/>\n   </g>\n   <g id=\"patch_5\">\n    <path d=\"M 26.925 225.227216 \nL 229.834091 225.227216 \n\" style=\"fill:none;stroke:#000000;stroke-linecap:square;stroke-linejoin:miter;stroke-width:0.8;\"/>\n   </g>\n   <g id=\"patch_6\">\n    <path d=\"M 26.925 22.318125 \nL 229.834091 22.318125 \n\" style=\"fill:none;stroke:#000000;stroke-linecap:square;stroke-linejoin:miter;stroke-width:0.8;\"/>\n   </g>\n   <g id=\"text_13\">\n    <!-- Original -->\n    <g transform=\"translate(104.900795 16.318125)scale(0.12 -0.12)\">\n     <defs>\n      <path d=\"M 39.40625 66.21875 \nQ 28.65625 66.21875 22.328125 58.203125 \nQ 16.015625 50.203125 16.015625 36.375 \nQ 16.015625 22.609375 22.328125 14.59375 \nQ 28.65625 6.59375 39.40625 6.59375 \nQ 50.140625 6.59375 56.421875 14.59375 \nQ 62.703125 22.609375 62.703125 36.375 \nQ 62.703125 50.203125 56.421875 58.203125 \nQ 50.140625 66.21875 39.40625 66.21875 \nz\nM 39.40625 74.21875 \nQ 54.734375 74.21875 63.90625 63.9375 \nQ 73.09375 53.65625 73.09375 36.375 \nQ 73.09375 19.140625 63.90625 8.859375 \nQ 54.734375 -1.421875 39.40625 -1.421875 \nQ 24.03125 -1.421875 14.8125 8.828125 \nQ 5.609375 19.09375 5.609375 36.375 \nQ 5.609375 53.65625 14.8125 63.9375 \nQ 24.03125 74.21875 39.40625 74.21875 \nz\n\" id=\"DejaVuSans-79\"/>\n      <path d=\"M 41.109375 46.296875 \nQ 39.59375 47.171875 37.8125 47.578125 \nQ 36.03125 48 33.890625 48 \nQ 26.265625 48 22.1875 43.046875 \nQ 18.109375 38.09375 18.109375 28.8125 \nL 18.109375 0 \nL 9.078125 0 \nL 9.078125 54.6875 \nL 18.109375 54.6875 \nL 18.109375 46.1875 \nQ 20.953125 51.171875 25.484375 53.578125 \nQ 30.03125 56 36.53125 56 \nQ 37.453125 56 38.578125 55.875 \nQ 39.703125 55.765625 41.0625 55.515625 \nz\n\" id=\"DejaVuSans-114\"/>\n      <path d=\"M 9.421875 54.6875 \nL 18.40625 54.6875 \nL 18.40625 0 \nL 9.421875 0 \nz\nM 9.421875 75.984375 \nL 18.40625 75.984375 \nL 18.40625 64.59375 \nL 9.421875 64.59375 \nz\n\" id=\"DejaVuSans-105\"/>\n      <path d=\"M 45.40625 27.984375 \nQ 45.40625 37.75 41.375 43.109375 \nQ 37.359375 48.484375 30.078125 48.484375 \nQ 22.859375 48.484375 18.828125 43.109375 \nQ 14.796875 37.75 14.796875 27.984375 \nQ 14.796875 18.265625 18.828125 12.890625 \nQ 22.859375 7.515625 30.078125 7.515625 \nQ 37.359375 7.515625 41.375 12.890625 \nQ 45.40625 18.265625 45.40625 27.984375 \nz\nM 54.390625 6.78125 \nQ 54.390625 -7.171875 48.1875 -13.984375 \nQ 42 -20.796875 29.203125 -20.796875 \nQ 24.46875 -20.796875 20.265625 -20.09375 \nQ 16.0625 -19.390625 12.109375 -17.921875 \nL 12.109375 -9.1875 \nQ 16.0625 -11.328125 19.921875 -12.34375 \nQ 23.78125 -13.375 27.78125 -13.375 \nQ 36.625 -13.375 41.015625 -8.765625 \nQ 45.40625 -4.15625 45.40625 5.171875 \nL 45.40625 9.625 \nQ 42.625 4.78125 38.28125 2.390625 \nQ 33.9375 0 27.875 0 \nQ 17.828125 0 11.671875 7.65625 \nQ 5.515625 15.328125 5.515625 27.984375 \nQ 5.515625 40.671875 11.671875 48.328125 \nQ 17.828125 56 27.875 56 \nQ 33.9375 56 38.28125 53.609375 \nQ 42.625 51.21875 45.40625 46.390625 \nL 45.40625 54.6875 \nL 54.390625 54.6875 \nz\n\" id=\"DejaVuSans-103\"/>\n      <path d=\"M 54.890625 33.015625 \nL 54.890625 0 \nL 45.90625 0 \nL 45.90625 32.71875 \nQ 45.90625 40.484375 42.875 44.328125 \nQ 39.84375 48.1875 33.796875 48.1875 \nQ 26.515625 48.1875 22.3125 43.546875 \nQ 18.109375 38.921875 18.109375 30.90625 \nL 18.109375 0 \nL 9.078125 0 \nL 9.078125 54.6875 \nL 18.109375 54.6875 \nL 18.109375 46.1875 \nQ 21.34375 51.125 25.703125 53.5625 \nQ 30.078125 56 35.796875 56 \nQ 45.21875 56 50.046875 50.171875 \nQ 54.890625 44.34375 54.890625 33.015625 \nz\n\" id=\"DejaVuSans-110\"/>\n      <path d=\"M 34.28125 27.484375 \nQ 23.390625 27.484375 19.1875 25 \nQ 14.984375 22.515625 14.984375 16.5 \nQ 14.984375 11.71875 18.140625 8.90625 \nQ 21.296875 6.109375 26.703125 6.109375 \nQ 34.1875 6.109375 38.703125 11.40625 \nQ 43.21875 16.703125 43.21875 25.484375 \nL 43.21875 27.484375 \nz\nM 52.203125 31.203125 \nL 52.203125 0 \nL 43.21875 0 \nL 43.21875 8.296875 \nQ 40.140625 3.328125 35.546875 0.953125 \nQ 30.953125 -1.421875 24.3125 -1.421875 \nQ 15.921875 -1.421875 10.953125 3.296875 \nQ 6 8.015625 6 15.921875 \nQ 6 25.140625 12.171875 29.828125 \nQ 18.359375 34.515625 30.609375 34.515625 \nL 43.21875 34.515625 \nL 43.21875 35.40625 \nQ 43.21875 41.609375 39.140625 45 \nQ 35.0625 48.390625 27.6875 48.390625 \nQ 23 48.390625 18.546875 47.265625 \nQ 14.109375 46.140625 10.015625 43.890625 \nL 10.015625 52.203125 \nQ 14.9375 54.109375 19.578125 55.046875 \nQ 24.21875 56 28.609375 56 \nQ 40.484375 56 46.34375 49.84375 \nQ 52.203125 43.703125 52.203125 31.203125 \nz\n\" id=\"DejaVuSans-97\"/>\n      <path d=\"M 9.421875 75.984375 \nL 18.40625 75.984375 \nL 18.40625 0 \nL 9.421875 0 \nz\n\" id=\"DejaVuSans-108\"/>\n     </defs>\n     <use xlink:href=\"#DejaVuSans-79\"/>\n     <use x=\"78.710938\" xlink:href=\"#DejaVuSans-114\"/>\n     <use x=\"119.824219\" xlink:href=\"#DejaVuSans-105\"/>\n     <use x=\"147.607422\" xlink:href=\"#DejaVuSans-103\"/>\n     <use x=\"211.083984\" xlink:href=\"#DejaVuSans-105\"/>\n     <use x=\"238.867188\" xlink:href=\"#DejaVuSans-110\"/>\n     <use x=\"302.246094\" xlink:href=\"#DejaVuSans-97\"/>\n     <use x=\"363.525391\" xlink:href=\"#DejaVuSans-108\"/>\n    </g>\n   </g>\n  </g>\n  <g id=\"axes_2\">\n   <g id=\"patch_7\">\n    <path d=\"M 270.415909 225.227216 \nL 473.325 225.227216 \nL 473.325 22.318125 \nL 270.415909 22.318125 \nz\n\" style=\"fill:#ffffff;\"/>\n   </g>\n   <g clip-path=\"url(#pa534020304)\">\n    <image height=\"203\" id=\"image2f42b56bcd\" transform=\"scale(1 -1)translate(0 -203)\" width=\"203\" x=\"270.415909\" xlink:href=\"data:image/png;base64,\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\" y=\"-22.227216\"/>\n   </g>\n   <g id=\"matplotlib.axis_3\">\n    <g id=\"xtick_7\">\n     <g id=\"line2d_13\">\n      <g>\n       <use style=\"stroke:#000000;stroke-width:0.8;\" x=\"274.039286\" xlink:href=\"#m29feee6bd6\" y=\"225.227216\"/>\n      </g>\n     </g>\n     <g id=\"text_14\">\n      <!-- 0 -->\n      <g transform=\"translate(270.858036 239.825653)scale(0.1 -0.1)\">\n       <use xlink:href=\"#DejaVuSans-48\"/>\n      </g>\n     </g>\n    </g>\n    <g id=\"xtick_8\">\n     <g id=\"line2d_14\">\n      <g>\n       <use style=\"stroke:#000000;stroke-width:0.8;\" x=\"310.273052\" xlink:href=\"#m29feee6bd6\" y=\"225.227216\"/>\n      </g>\n     </g>\n     <g id=\"text_15\">\n      <!-- 5 -->\n      <g transform=\"translate(307.091802 239.825653)scale(0.1 -0.1)\">\n       <use xlink:href=\"#DejaVuSans-53\"/>\n      </g>\n     </g>\n    </g>\n    <g id=\"xtick_9\">\n     <g id=\"line2d_15\">\n      <g>\n       <use style=\"stroke:#000000;stroke-width:0.8;\" x=\"346.506818\" xlink:href=\"#m29feee6bd6\" y=\"225.227216\"/>\n      </g>\n     </g>\n     <g id=\"text_16\">\n      <!-- 10 -->\n      <g transform=\"translate(340.144318 239.825653)scale(0.1 -0.1)\">\n       <use xlink:href=\"#DejaVuSans-49\"/>\n       <use x=\"63.623047\" xlink:href=\"#DejaVuSans-48\"/>\n      </g>\n     </g>\n    </g>\n    <g id=\"xtick_10\">\n     <g id=\"line2d_16\">\n      <g>\n       <use style=\"stroke:#000000;stroke-width:0.8;\" x=\"382.740584\" xlink:href=\"#m29feee6bd6\" y=\"225.227216\"/>\n      </g>\n     </g>\n     <g id=\"text_17\">\n      <!-- 15 -->\n      <g transform=\"translate(376.378084 239.825653)scale(0.1 -0.1)\">\n       <use xlink:href=\"#DejaVuSans-49\"/>\n       <use x=\"63.623047\" xlink:href=\"#DejaVuSans-53\"/>\n      </g>\n     </g>\n    </g>\n    <g id=\"xtick_11\">\n     <g id=\"line2d_17\">\n      <g>\n       <use style=\"stroke:#000000;stroke-width:0.8;\" x=\"418.974351\" xlink:href=\"#m29feee6bd6\" y=\"225.227216\"/>\n      </g>\n     </g>\n     <g id=\"text_18\">\n      <!-- 20 -->\n      <g transform=\"translate(412.611851 239.825653)scale(0.1 -0.1)\">\n       <use xlink:href=\"#DejaVuSans-50\"/>\n       <use x=\"63.623047\" xlink:href=\"#DejaVuSans-48\"/>\n      </g>\n     </g>\n    </g>\n    <g id=\"xtick_12\">\n     <g id=\"line2d_18\">\n      <g>\n       <use style=\"stroke:#000000;stroke-width:0.8;\" x=\"455.208117\" xlink:href=\"#m29feee6bd6\" y=\"225.227216\"/>\n      </g>\n     </g>\n     <g id=\"text_19\">\n      <!-- 25 -->\n      <g transform=\"translate(448.845617 239.825653)scale(0.1 -0.1)\">\n       <use xlink:href=\"#DejaVuSans-50\"/>\n       <use x=\"63.623047\" xlink:href=\"#DejaVuSans-53\"/>\n      </g>\n     </g>\n    </g>\n   </g>\n   <g id=\"matplotlib.axis_4\">\n    <g id=\"ytick_7\">\n     <g id=\"line2d_19\">\n      <g>\n       <use style=\"stroke:#000000;stroke-width:0.8;\" x=\"270.415909\" xlink:href=\"#mf1b2a5a02f\" y=\"25.941502\"/>\n      </g>\n     </g>\n     <g id=\"text_20\">\n      <!-- 0 -->\n      <g transform=\"translate(257.053409 29.74072)scale(0.1 -0.1)\">\n       <use xlink:href=\"#DejaVuSans-48\"/>\n      </g>\n     </g>\n    </g>\n    <g id=\"ytick_8\">\n     <g id=\"line2d_20\">\n      <g>\n       <use style=\"stroke:#000000;stroke-width:0.8;\" x=\"270.415909\" xlink:href=\"#mf1b2a5a02f\" y=\"62.175268\"/>\n      </g>\n     </g>\n     <g id=\"text_21\">\n      <!-- 5 -->\n      <g transform=\"translate(257.053409 65.974487)scale(0.1 -0.1)\">\n       <use xlink:href=\"#DejaVuSans-53\"/>\n      </g>\n     </g>\n    </g>\n    <g id=\"ytick_9\">\n     <g id=\"line2d_21\">\n      <g>\n       <use style=\"stroke:#000000;stroke-width:0.8;\" x=\"270.415909\" xlink:href=\"#mf1b2a5a02f\" y=\"98.409034\"/>\n      </g>\n     </g>\n     <g id=\"text_22\">\n      <!-- 10 -->\n      <g transform=\"translate(250.690909 102.208253)scale(0.1 -0.1)\">\n       <use xlink:href=\"#DejaVuSans-49\"/>\n       <use x=\"63.623047\" xlink:href=\"#DejaVuSans-48\"/>\n      </g>\n     </g>\n    </g>\n    <g id=\"ytick_10\">\n     <g id=\"line2d_22\">\n      <g>\n       <use style=\"stroke:#000000;stroke-width:0.8;\" x=\"270.415909\" xlink:href=\"#mf1b2a5a02f\" y=\"134.6428\"/>\n      </g>\n     </g>\n     <g id=\"text_23\">\n      <!-- 15 -->\n      <g transform=\"translate(250.690909 138.442019)scale(0.1 -0.1)\">\n       <use xlink:href=\"#DejaVuSans-49\"/>\n       <use x=\"63.623047\" xlink:href=\"#DejaVuSans-53\"/>\n      </g>\n     </g>\n    </g>\n    <g id=\"ytick_11\">\n     <g id=\"line2d_23\">\n      <g>\n       <use style=\"stroke:#000000;stroke-width:0.8;\" x=\"270.415909\" xlink:href=\"#mf1b2a5a02f\" y=\"170.876567\"/>\n      </g>\n     </g>\n     <g id=\"text_24\">\n      <!-- 20 -->\n      <g transform=\"translate(250.690909 174.675785)scale(0.1 -0.1)\">\n       <use xlink:href=\"#DejaVuSans-50\"/>\n       <use x=\"63.623047\" xlink:href=\"#DejaVuSans-48\"/>\n      </g>\n     </g>\n    </g>\n    <g id=\"ytick_12\">\n     <g id=\"line2d_24\">\n      <g>\n       <use style=\"stroke:#000000;stroke-width:0.8;\" x=\"270.415909\" xlink:href=\"#mf1b2a5a02f\" y=\"207.110333\"/>\n      </g>\n     </g>\n     <g id=\"text_25\">\n      <!-- 25 -->\n      <g transform=\"translate(250.690909 210.909552)scale(0.1 -0.1)\">\n       <use xlink:href=\"#DejaVuSans-50\"/>\n       <use x=\"63.623047\" xlink:href=\"#DejaVuSans-53\"/>\n      </g>\n     </g>\n    </g>\n   </g>\n   <g id=\"patch_8\">\n    <path d=\"M 270.415909 225.227216 \nL 270.415909 22.318125 \n\" style=\"fill:none;stroke:#000000;stroke-linecap:square;stroke-linejoin:miter;stroke-width:0.8;\"/>\n   </g>\n   <g id=\"patch_9\">\n    <path d=\"M 473.325 225.227216 \nL 473.325 22.318125 \n\" style=\"fill:none;stroke:#000000;stroke-linecap:square;stroke-linejoin:miter;stroke-width:0.8;\"/>\n   </g>\n   <g id=\"patch_10\">\n    <path d=\"M 270.415909 225.227216 \nL 473.325 225.227216 \n\" style=\"fill:none;stroke:#000000;stroke-linecap:square;stroke-linejoin:miter;stroke-width:0.8;\"/>\n   </g>\n   <g id=\"patch_11\">\n    <path d=\"M 270.415909 22.318125 \nL 473.325 22.318125 \n\" style=\"fill:none;stroke:#000000;stroke-linecap:square;stroke-linejoin:miter;stroke-width:0.8;\"/>\n   </g>\n   <g id=\"text_26\">\n    <!-- Grayscale -->\n    <g transform=\"translate(342.066392 16.318125)scale(0.12 -0.12)\">\n     <defs>\n      <path d=\"M 59.515625 10.40625 \nL 59.515625 29.984375 \nL 43.40625 29.984375 \nL 43.40625 38.09375 \nL 69.28125 38.09375 \nL 69.28125 6.78125 \nQ 63.578125 2.734375 56.6875 0.65625 \nQ 49.8125 -1.421875 42 -1.421875 \nQ 24.90625 -1.421875 15.25 8.5625 \nQ 5.609375 18.5625 5.609375 36.375 \nQ 5.609375 54.25 15.25 64.234375 \nQ 24.90625 74.21875 42 74.21875 \nQ 49.125 74.21875 55.546875 72.453125 \nQ 61.96875 70.703125 67.390625 67.28125 \nL 67.390625 56.78125 \nQ 61.921875 61.421875 55.765625 63.765625 \nQ 49.609375 66.109375 42.828125 66.109375 \nQ 29.4375 66.109375 22.71875 58.640625 \nQ 16.015625 51.171875 16.015625 36.375 \nQ 16.015625 21.625 22.71875 14.15625 \nQ 29.4375 6.6875 42.828125 6.6875 \nQ 48.046875 6.6875 52.140625 7.59375 \nQ 56.25 8.5 59.515625 10.40625 \nz\n\" id=\"DejaVuSans-71\"/>\n      <path d=\"M 32.171875 -5.078125 \nQ 28.375 -14.84375 24.75 -17.8125 \nQ 21.140625 -20.796875 15.09375 -20.796875 \nL 7.90625 -20.796875 \nL 7.90625 -13.28125 \nL 13.1875 -13.28125 \nQ 16.890625 -13.28125 18.9375 -11.515625 \nQ 21 -9.765625 23.484375 -3.21875 \nL 25.09375 0.875 \nL 2.984375 54.6875 \nL 12.5 54.6875 \nL 29.59375 11.921875 \nL 46.6875 54.6875 \nL 56.203125 54.6875 \nz\n\" id=\"DejaVuSans-121\"/>\n      <path d=\"M 44.28125 53.078125 \nL 44.28125 44.578125 \nQ 40.484375 46.53125 36.375 47.5 \nQ 32.28125 48.484375 27.875 48.484375 \nQ 21.1875 48.484375 17.84375 46.4375 \nQ 14.5 44.390625 14.5 40.28125 \nQ 14.5 37.15625 16.890625 35.375 \nQ 19.28125 33.59375 26.515625 31.984375 \nL 29.59375 31.296875 \nQ 39.15625 29.25 43.1875 25.515625 \nQ 47.21875 21.78125 47.21875 15.09375 \nQ 47.21875 7.46875 41.1875 3.015625 \nQ 35.15625 -1.421875 24.609375 -1.421875 \nQ 20.21875 -1.421875 15.453125 -0.5625 \nQ 10.6875 0.296875 5.421875 2 \nL 5.421875 11.28125 \nQ 10.40625 8.6875 15.234375 7.390625 \nQ 20.0625 6.109375 24.8125 6.109375 \nQ 31.15625 6.109375 34.5625 8.28125 \nQ 37.984375 10.453125 37.984375 14.40625 \nQ 37.984375 18.0625 35.515625 20.015625 \nQ 33.0625 21.96875 24.703125 23.78125 \nL 21.578125 24.515625 \nQ 13.234375 26.265625 9.515625 29.90625 \nQ 5.8125 33.546875 5.8125 39.890625 \nQ 5.8125 47.609375 11.28125 51.796875 \nQ 16.75 56 26.8125 56 \nQ 31.78125 56 36.171875 55.265625 \nQ 40.578125 54.546875 44.28125 53.078125 \nz\n\" id=\"DejaVuSans-115\"/>\n      <path d=\"M 48.78125 52.59375 \nL 48.78125 44.1875 \nQ 44.96875 46.296875 41.140625 47.34375 \nQ 37.3125 48.390625 33.40625 48.390625 \nQ 24.65625 48.390625 19.8125 42.84375 \nQ 14.984375 37.3125 14.984375 27.296875 \nQ 14.984375 17.28125 19.8125 11.734375 \nQ 24.65625 6.203125 33.40625 6.203125 \nQ 37.3125 6.203125 41.140625 7.25 \nQ 44.96875 8.296875 48.78125 10.40625 \nL 48.78125 2.09375 \nQ 45.015625 0.34375 40.984375 -0.53125 \nQ 36.96875 -1.421875 32.421875 -1.421875 \nQ 20.0625 -1.421875 12.78125 6.34375 \nQ 5.515625 14.109375 5.515625 27.296875 \nQ 5.515625 40.671875 12.859375 48.328125 \nQ 20.21875 56 33.015625 56 \nQ 37.15625 56 41.109375 55.140625 \nQ 45.0625 54.296875 48.78125 52.59375 \nz\n\" id=\"DejaVuSans-99\"/>\n      <path d=\"M 56.203125 29.59375 \nL 56.203125 25.203125 \nL 14.890625 25.203125 \nQ 15.484375 15.921875 20.484375 11.0625 \nQ 25.484375 6.203125 34.421875 6.203125 \nQ 39.59375 6.203125 44.453125 7.46875 \nQ 49.3125 8.734375 54.109375 11.28125 \nL 54.109375 2.78125 \nQ 49.265625 0.734375 44.1875 -0.34375 \nQ 39.109375 -1.421875 33.890625 -1.421875 \nQ 20.796875 -1.421875 13.15625 6.1875 \nQ 5.515625 13.8125 5.515625 26.8125 \nQ 5.515625 40.234375 12.765625 48.109375 \nQ 20.015625 56 32.328125 56 \nQ 43.359375 56 49.78125 48.890625 \nQ 56.203125 41.796875 56.203125 29.59375 \nz\nM 47.21875 32.234375 \nQ 47.125 39.59375 43.09375 43.984375 \nQ 39.0625 48.390625 32.421875 48.390625 \nQ 24.90625 48.390625 20.390625 44.140625 \nQ 15.875 39.890625 15.1875 32.171875 \nz\n\" id=\"DejaVuSans-101\"/>\n     </defs>\n     <use xlink:href=\"#DejaVuSans-71\"/>\n     <use x=\"77.490234\" xlink:href=\"#DejaVuSans-114\"/>\n     <use x=\"118.603516\" xlink:href=\"#DejaVuSans-97\"/>\n     <use x=\"179.882812\" xlink:href=\"#DejaVuSans-121\"/>\n     <use x=\"239.0625\" xlink:href=\"#DejaVuSans-115\"/>\n     <use x=\"291.162109\" xlink:href=\"#DejaVuSans-99\"/>\n     <use x=\"346.142578\" xlink:href=\"#DejaVuSans-97\"/>\n     <use x=\"407.421875\" xlink:href=\"#DejaVuSans-108\"/>\n     <use x=\"435.205078\" xlink:href=\"#DejaVuSans-101\"/>\n    </g>\n   </g>\n  </g>\n </g>\n <defs>\n  <clipPath id=\"p44794dca2a\">\n   <rect height=\"202.909091\" width=\"202.909091\" x=\"26.925\" y=\"22.318125\"/>\n  </clipPath>\n  <clipPath id=\"pa534020304\">\n   <rect height=\"202.909091\" width=\"202.909091\" x=\"270.415909\" y=\"22.318125\"/>\n  </clipPath>\n </defs>\n</svg>\n",
      "image/png": "[encoded data removed]"
     },
     "metadata": {
      "needs_background": "light"
     }
    }
   ],
   "source": [
    "import matplotlib.pyplot as plt\n",
    "\n",
    "# pip install scikit-image\n",
    "from skimage import data\n",
    "from skimage.color import rgb2gray, rgba2rgb\n",
    "\n",
    "grayscale = rgb2gray(rgba2rgb(numpydata))\n",
    "\n",
    "fig, axes = plt.subplots(1, 2, figsize=(8, 4))\n",
    "ax = axes.ravel()\n",
    "\n",
    "ax[0].imshow(img)\n",
    "ax[0].set_title(\"Original\")\n",
    "ax[1].imshow(grayscale, cmap=plt.cm.gray)\n",
    "ax[1].set_title(\"Grayscale\")\n"
   ]
  },
  {
   "source": [
    "### Reconfigurar la imagen a vector de 784 entradas"
   ],
   "cell_type": "markdown",
   "metadata": {}
  },
  {
   "cell_type": "code",
   "execution_count": 126,
   "metadata": {},
   "outputs": [
    {
     "output_type": "execute_result",
     "data": {
      "text/plain": [
       "array([0.        , 0.        , 0.        , 0.        , 0.        ,\n",
       "       0.        , 0.        , 0.        , 0.        , 0.        ,\n",
       "       0.        , 0.        , 0.        , 0.        , 0.        ,\n",
       "       0.        , 0.        , 0.        , 0.        , 0.        ,\n",
       "       0.        , 0.        , 0.        , 0.        , 0.        ,\n",
       "       0.        , 0.        , 0.        , 0.        , 0.        ,\n",
       "       0.        , 0.        , 0.        , 0.        , 0.        ,\n",
       "       0.        , 0.        , 0.        , 0.        , 0.        ,\n",
       "       0.        , 0.        , 0.        , 0.        , 0.        ,\n",
       "       0.        , 0.        , 0.        , 0.        , 0.        ,\n",
       "       0.        , 0.        , 0.        , 0.        , 0.        ,\n",
       "       0.        , 0.        , 0.        , 0.        , 0.        ,\n",
       "       0.        , 0.        , 0.        , 0.        , 0.        ,\n",
       "       0.        , 0.        , 0.        , 0.        , 0.05878667,\n",
       "       0.05878667, 0.04423137, 0.        , 0.        , 0.        ,\n",
       "       0.        , 0.        , 0.        , 0.        , 0.        ,\n",
       "       0.        , 0.        , 0.        , 0.        , 0.        ,\n",
       "       0.        , 0.        , 0.        , 0.        , 0.        ,\n",
       "       0.        , 0.        , 0.        , 0.        , 0.13968902,\n",
       "       0.48149255, 0.74603255, 0.87088353, 0.87088353, 0.85240667,\n",
       "       0.74239373, 0.53271882, 0.16908235, 0.        , 0.        ,\n",
       "       0.        , 0.        , 0.        , 0.        , 0.        ,\n",
       "       0.        , 0.        , 0.        , 0.        , 0.        ,\n",
       "       0.        , 0.        , 0.        , 0.        , 0.        ,\n",
       "       0.05150902, 0.53271882, 0.9151149 , 0.90391569, 0.67968549,\n",
       "       0.4887702 , 0.45937686, 0.50332549, 0.88936039, 0.93779608,\n",
       "       0.79725882, 0.11393451, 0.        , 0.        , 0.        ,\n",
       "       0.        , 0.        , 0.        , 0.        , 0.        ,\n",
       "       0.        , 0.        , 0.        , 0.        , 0.        ,\n",
       "       0.        , 0.        , 0.0403098 , 0.69816235, 0.93359176,\n",
       "       0.49604784, 0.11757333, 0.        , 0.        , 0.        ,\n",
       "       0.        , 0.38575216, 0.79390275, 0.9151149 , 0.84541176,\n",
       "       0.16908235, 0.        , 0.        , 0.        , 0.        ,\n",
       "       0.        , 0.        , 0.        , 0.        , 0.        ,\n",
       "       0.        , 0.        , 0.        , 0.        , 0.00363882,\n",
       "       0.54755686, 0.92631412, 0.28301686, 0.        , 0.        ,\n",
       "       0.        , 0.        , 0.        , 0.        , 0.        ,\n",
       "       0.03303216, 0.17636   , 0.80845804, 0.77178706, 0.06242549,\n",
       "       0.        , 0.        , 0.        , 0.        , 0.        ,\n",
       "       0.        , 0.        , 0.        , 0.        , 0.        ,\n",
       "       0.        , 0.        , 0.14696667, 0.93359176, 0.45937686,\n",
       "       0.        , 0.        , 0.        , 0.        , 0.        ,\n",
       "       0.        , 0.        , 0.        , 0.        , 0.        ,\n",
       "       0.20211451, 0.92995294, 0.45937686, 0.        , 0.        ,\n",
       "       0.        , 0.        , 0.        , 0.        , 0.        ,\n",
       "       0.        , 0.        , 0.        , 0.        , 0.        ,\n",
       "       0.22059137, 0.93723059, 0.21303098, 0.        , 0.        ,\n",
       "       0.        , 0.        , 0.        , 0.        , 0.        ,\n",
       "       0.        , 0.        , 0.        , 0.        , 0.59150549,\n",
       "       0.85996706, 0.07362471, 0.        , 0.        , 0.        ,\n",
       "       0.        , 0.        , 0.        , 0.        , 0.        ,\n",
       "       0.        , 0.        , 0.        , 0.15788314, 0.93694784,\n",
       "       0.34908118, 0.        , 0.        , 0.        , 0.        ,\n",
       "       0.        , 0.        , 0.        , 0.        , 0.        ,\n",
       "       0.        , 0.        , 0.19091529, 0.93723059, 0.30877137,\n",
       "       0.        , 0.        , 0.        , 0.        , 0.        ,\n",
       "       0.        , 0.        , 0.        , 0.        , 0.        ,\n",
       "       0.        , 0.01847686, 0.73483333, 0.78270353, 0.04394863,\n",
       "       0.        , 0.        , 0.        , 0.        , 0.        ,\n",
       "       0.        , 0.        , 0.        , 0.        , 0.        ,\n",
       "       0.07726353, 0.90027686, 0.3930298 , 0.        , 0.        ,\n",
       "       0.        , 0.        , 0.        , 0.        , 0.        ,\n",
       "       0.        , 0.        , 0.        , 0.        , 0.        ,\n",
       "       0.21303098, 0.92631412, 0.56575098, 0.        , 0.        ,\n",
       "       0.        , 0.        , 0.        , 0.        , 0.        ,\n",
       "       0.        , 0.        , 0.        , 0.13968902, 0.9296702 ,\n",
       "       0.34544235, 0.        , 0.        , 0.        , 0.        ,\n",
       "       0.        , 0.        , 0.        , 0.        , 0.        ,\n",
       "       0.        , 0.        , 0.        , 0.        , 0.40422902,\n",
       "       0.93751333, 0.53664039, 0.02575451, 0.        , 0.        ,\n",
       "       0.        , 0.        , 0.        , 0.        , 0.        ,\n",
       "       0.        , 0.56211216, 0.89663804, 0.11393451, 0.        ,\n",
       "       0.        , 0.        , 0.        , 0.        , 0.        ,\n",
       "       0.        , 0.        , 0.        , 0.        , 0.        ,\n",
       "       0.        , 0.        , 0.        , 0.41878431, 0.91147608,\n",
       "       0.65421373, 0.11029569, 0.        , 0.        , 0.00727765,\n",
       "       0.01847686, 0.01483804, 0.06606431, 0.45209922, 0.93723059,\n",
       "       0.42998353, 0.        , 0.        , 0.        , 0.        ,\n",
       "       0.        , 0.        , 0.        , 0.        , 0.        ,\n",
       "       0.        , 0.        , 0.        , 0.        , 0.        ,\n",
       "       0.        , 0.06242549, 0.59150549, 0.93751333, 0.87088353,\n",
       "       0.68360706, 0.62118157, 0.73847216, 0.78270353, 0.78634235,\n",
       "       0.84512902, 0.93751333, 0.65785255, 0.        , 0.        ,\n",
       "       0.        , 0.        , 0.        , 0.        , 0.        ,\n",
       "       0.        , 0.        , 0.        , 0.        , 0.        ,\n",
       "       0.        , 0.        , 0.        , 0.40786784, 0.87088353,\n",
       "       0.92603137, 0.81573569, 0.72391686, 0.79754157, 0.87816118,\n",
       "       0.91119333, 0.91147608, 0.80845804, 0.72027804, 0.87088353,\n",
       "       0.90419843, 0.56211216, 0.05878667, 0.        , 0.        ,\n",
       "       0.        , 0.        , 0.        , 0.        , 0.        ,\n",
       "       0.        , 0.        , 0.        , 0.        , 0.        ,\n",
       "       0.49240902, 0.93751333, 0.61362118, 0.21695255, 0.0478702 ,\n",
       "       0.        , 0.02211569, 0.06970314, 0.12121216, 0.1284898 ,\n",
       "       0.03303216, 0.        , 0.11393451, 0.47029333, 0.92631412,\n",
       "       0.69816235, 0.05514784, 0.        , 0.        , 0.        ,\n",
       "       0.        , 0.        , 0.        , 0.        , 0.        ,\n",
       "       0.        , 0.        , 0.16908235, 0.93359176, 0.50332549,\n",
       "       0.        , 0.        , 0.        , 0.        , 0.        ,\n",
       "       0.        , 0.        , 0.        , 0.        , 0.        ,\n",
       "       0.        , 0.        , 0.27181765, 0.91875373, 0.59542706,\n",
       "       0.00727765, 0.        , 0.        , 0.        , 0.        ,\n",
       "       0.        , 0.        , 0.        , 0.        , 0.        ,\n",
       "       0.43726118, 0.89663804, 0.08090235, 0.        , 0.        ,\n",
       "       0.        , 0.        , 0.        , 0.        , 0.        ,\n",
       "       0.        , 0.        , 0.        , 0.        , 0.        ,\n",
       "       0.        , 0.39666863, 0.93723059, 0.22786902, 0.        ,\n",
       "       0.        , 0.        , 0.        , 0.        , 0.        ,\n",
       "       0.        , 0.        , 0.        , 0.56211216, 0.80845804,\n",
       "       0.00756039, 0.        , 0.        , 0.        , 0.        ,\n",
       "       0.        , 0.        , 0.        , 0.        , 0.        ,\n",
       "       0.        , 0.        , 0.        , 0.        , 0.03667098,\n",
       "       0.83057373, 0.58422784, 0.        , 0.        , 0.        ,\n",
       "       0.        , 0.        , 0.        , 0.        , 0.        ,\n",
       "       0.        , 0.47393216, 0.90027686, 0.10665686, 0.        ,\n",
       "       0.        , 0.        , 0.        , 0.        , 0.        ,\n",
       "       0.        , 0.        , 0.        , 0.        , 0.        ,\n",
       "       0.        , 0.        , 0.        , 0.63573686, 0.73847216,\n",
       "       0.        , 0.        , 0.        , 0.        , 0.        ,\n",
       "       0.        , 0.        , 0.        , 0.        , 0.1284898 ,\n",
       "       0.88208275, 0.6651302 , 0.0403098 , 0.        , 0.        ,\n",
       "       0.        , 0.        , 0.        , 0.        , 0.        ,\n",
       "       0.        , 0.        , 0.        , 0.        , 0.        ,\n",
       "       0.        , 0.60998235, 0.76814824, 0.00363882, 0.        ,\n",
       "       0.        , 0.        , 0.        , 0.        , 0.        ,\n",
       "       0.        , 0.        , 0.        , 0.30848863, 0.92603137,\n",
       "       0.7387549 , 0.2166698 , 0.        , 0.        , 0.        ,\n",
       "       0.        , 0.        , 0.        , 0.        , 0.        ,\n",
       "       0.        , 0.        , 0.        , 0.00363882, 0.78270353,\n",
       "       0.63937569, 0.        , 0.        , 0.        , 0.        ,\n",
       "       0.        , 0.        , 0.        , 0.        , 0.        ,\n",
       "       0.        , 0.        , 0.26090118, 0.79026392, 0.93723059,\n",
       "       0.60634353, 0.18727647, 0.        , 0.        , 0.        ,\n",
       "       0.        , 0.        , 0.        , 0.        , 0.        ,\n",
       "       0.05150902, 0.50332549, 0.93723059, 0.3048498 , 0.        ,\n",
       "       0.        , 0.        , 0.        , 0.        , 0.        ,\n",
       "       0.        , 0.        , 0.        , 0.        , 0.        ,\n",
       "       0.        , 0.0478702 , 0.43726118, 0.85268941, 0.93723059,\n",
       "       0.69452353, 0.45573804, 0.27937804, 0.20939216, 0.19847569,\n",
       "       0.22059137, 0.35635882, 0.53271882, 0.82301333, 0.93723059,\n",
       "       0.49240902, 0.00727765, 0.        , 0.        , 0.        ,\n",
       "       0.        , 0.        , 0.        , 0.        , 0.        ,\n",
       "       0.        , 0.        , 0.        , 0.        , 0.        ,\n",
       "       0.        , 0.07726353, 0.40422902, 0.74239373, 0.88936039,\n",
       "       0.93723059, 0.93723059, 0.93723059, 0.93723059, 0.92603137,\n",
       "       0.85240667, 0.62482039, 0.22786902, 0.        , 0.        ,\n",
       "       0.        , 0.        , 0.        , 0.        , 0.        ,\n",
       "       0.        , 0.        , 0.        , 0.        , 0.        ,\n",
       "       0.        , 0.        , 0.        , 0.        , 0.        ,\n",
       "       0.        , 0.        , 0.08090235, 0.18755922, 0.23514667,\n",
       "       0.24242431, 0.23150784, 0.13241137, 0.04423137, 0.        ,\n",
       "       0.        , 0.        , 0.        , 0.        , 0.        ,\n",
       "       0.        , 0.        , 0.        , 0.        , 0.        ,\n",
       "       0.        , 0.        , 0.        , 0.        , 0.        ,\n",
       "       0.        , 0.        , 0.        , 0.        , 0.        ,\n",
       "       0.        , 0.        , 0.        , 0.        , 0.        ,\n",
       "       0.        , 0.        , 0.        , 0.        , 0.        ,\n",
       "       0.        , 0.        , 0.        , 0.        ])"
      ]
     },
     "metadata": {},
     "execution_count": 126
    }
   ],
   "source": [
    "import numpy as np\n",
    "\n",
    "img_vector = np.reshape(grayscale, 784)\n",
    "\n",
    "img_vector"
   ]
  },
  {
   "source": [
    "### Entrenar red neuronal"
   ],
   "cell_type": "markdown",
   "metadata": {}
  },
  {
   "cell_type": "code",
   "execution_count": 39,
   "metadata": {},
   "outputs": [
    {
     "output_type": "stream",
     "name": "stdout",
     "text": [
      "Train Labels (60000,)\nTrain Images (60000, 784)\n"
     ]
    },
    {
     "output_type": "execute_result",
     "data": {
      "text/plain": [
       "MLPClassifier(hidden_layer_sizes=(15,))"
      ]
     },
     "metadata": {},
     "execution_count": 39
    }
   ],
   "source": [
    "import os\n",
    "import gzip\n",
    "import numpy as np\n",
    "from sklearn.neural_network import MLPClassifier\n",
    "\n",
    "train_labels_path = \"../notebooks/datasets/mnist/train-labels-idx1-ubyte.gz\"\n",
    "\n",
    "with gzip.open(train_labels_path, \"rb\") as data:\n",
    "    train_labels = np.frombuffer(data.read(), dtype=np.uint8, offset=8)\n",
    "\n",
    "train_images_path = \"../notebooks/datasets/mnist/train-images-idx3-ubyte.gz\"\n",
    "\n",
    "with gzip.open(train_images_path, \"rb\") as data:\n",
    "    train_images = np.frombuffer(data.read(), dtype=np.uint8, offset=16).reshape(len(train_labels), 784)\n",
    "\n",
    "print(\"Train Labels\", train_labels.shape)\n",
    "print(\"Train Images\", train_images.shape)\n",
    "\n",
    "def enconder(digit):\n",
    "    if digit == 0:\n",
    "        return [1, 0, 0, 0, 0, 0, 0, 0, 0, 0]\n",
    "    elif digit == 1:\n",
    "        return [0, 1, 0, 0, 0, 0, 0, 0, 0, 0]\n",
    "    elif digit == 2:\n",
    "        return [0, 0, 1, 0, 0, 0, 0, 0, 0, 0]\n",
    "    elif digit == 3:\n",
    "        return [0, 0, 0, 1, 0, 0, 0, 0, 0, 0]\n",
    "    elif digit == 4:\n",
    "        return [0, 0, 0, 0, 1, 0, 0, 0, 0, 0]\n",
    "    elif digit == 5:\n",
    "        return [0, 0, 0, 0, 0, 1, 0, 0, 0, 0]\n",
    "    elif digit == 6:\n",
    "        return [0, 0, 0, 0, 0, 0, 1, 0, 0, 0]\n",
    "    elif digit == 7:\n",
    "        return [0, 0, 0, 0, 0, 0, 0, 1, 0, 0]\n",
    "    elif digit == 8:\n",
    "        return [0, 0, 0, 0, 0, 0, 0, 0, 1, 0]\n",
    "    elif digit == 9:\n",
    "        return [0, 0, 0, 0, 0, 0, 0, 0, 0, 1]\n",
    "    else:\n",
    "        return [0, 0, 0, 0, 0, 0, 0, 0, 0, 0]\n",
    "\n",
    "train_labels_enc = np.array(list(map(enconder, train_labels)))\n",
    "\n",
    "clf = MLPClassifier(hidden_layer_sizes=(15,))\n",
    "\n",
    "clf.fit(train_images, train_labels_enc)"
   ]
  },
  {
   "cell_type": "code",
   "execution_count": 134,
   "metadata": {},
   "outputs": [
    {
     "output_type": "stream",
     "name": "stdout",
     "text": [
      "predict_label:  [0 0 0 0 0 0 1 0 0 0]\npredict_number:  6\n"
     ]
    }
   ],
   "source": [
    "def decode(dig_enc):\n",
    "    maxv = 0\n",
    "    maxi = 0\n",
    "    for index, value in enumerate(dig_enc):\n",
    "        if value > maxv:\n",
    "            maxv = value\n",
    "            maxi = index\n",
    "    return maxi\n",
    "\n",
    "predict_label = clf.predict([img_vector])\n",
    "\n",
    "print(\"predict_label: \", predict_label[0])\n",
    "print(\"predict_number: \", decode(predict_label[0]))\n"
   ]
  },
  {
   "source": [
    "### Conclusión: Se equivocó, siempre detecta que es un 6"
   ],
   "cell_type": "markdown",
   "metadata": {}
  },
  {
   "source": [
    "### Test images from mnist"
   ],
   "cell_type": "markdown",
   "metadata": {}
  },
  {
   "cell_type": "code",
   "execution_count": 133,
   "metadata": {},
   "outputs": [
    {
     "output_type": "stream",
     "name": "stdout",
     "text": [
      "predict_label:  [0 0 1 0 0 0 0 0 0 0]\npredict_number:  2\n"
     ]
    }
   ],
   "source": [
    "test_labels_path = \"../notebooks/datasets/mnist/t10k-labels-idx1-ubyte.gz\"\n",
    "\n",
    "with gzip.open(test_labels_path, \"rb\") as data:\n",
    "    test_labels = np.frombuffer(data.read(), dtype=np.uint8, offset=8)\n",
    "\n",
    "test_images_path = \"../notebooks/datasets/mnist/t10k-images-idx3-ubyte.gz\"\n",
    "\n",
    "with gzip.open(test_images_path, \"rb\") as data:\n",
    "    test_images = np.frombuffer(data.read(), dtype=np.uint8, offset=16).reshape(len(test_labels), 784)\n",
    "\n",
    "predict_label = clf.predict([test_images[1]])\n",
    "\n",
    "print(\"predict_label: \", predict_label[0])\n",
    "print(\"predict_number: \", decode(predict_label[0]))"
   ]
  }
 ]
}